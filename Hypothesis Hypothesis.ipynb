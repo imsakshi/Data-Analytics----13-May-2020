{
 "cells": [
  {
   "cell_type": "code",
   "execution_count": null,
   "metadata": {},
   "outputs": [],
   "source": [
    "By now we have learnt what z-score and standard error is. and we also have proper of normal distribution."
   ]
  },
  {
   "cell_type": "code",
   "execution_count": null,
   "metadata": {},
   "outputs": [],
   "source": [
    "so aaj se hum Hypothesis testing start karege--- Dhyan s samjhiyega, u will soon find it interesting."
   ]
  },
  {
   "cell_type": "code",
   "execution_count": null,
   "metadata": {},
   "outputs": [],
   "source": [
    "Hypothesis | testing\n",
    "Hypothesis ---- it is a statement or claim or a assumption about the value of a population parameter.\n",
    "or parameter s hum yha samjhte h statistical parameters(mean,median,.....)\n",
    "Eg: suppose kro aapke ek friend ki bulb manufacturing factory h n aapka friend jo ceo h us company ka\n",
    "    usne bola ki meri factory m jo bulb bnte h unki average life 5 yrs h.\n",
    "                               \"It is a claim\"\n",
    "ab aap ek data analyst yea scientist ho so aapki ye duty bnti h ki aap apne friend k claim ko check kre..\n",
    "to check either the claim of your friend is right or wrong is a process which is known hypothesis testing.\n",
    "Testing --- Different inferential statistical tests are their to check such type of claims..."
   ]
  },
  {
   "cell_type": "code",
   "execution_count": null,
   "metadata": {},
   "outputs": [],
   "source": [
    "usually in market we have claims like:\n",
    "    1. A particular brand of motorcycle gives 60km/hr average.\n",
    "    2. A businessman wants to check that average weight of banana in kerala is more than equal\n",
    "       200 gms or not."
   ]
  },
  {
   "cell_type": "code",
   "execution_count": null,
   "metadata": {},
   "outputs": [],
   "source": [
    "1. simple hypothesis ---- which only includes equality \n",
    "                           mu = 60km/hr\n",
    "2.composite hypothesis ----- it includes composite signs\n",
    "                            avgweight >=200gms"
   ]
  },
  {
   "cell_type": "code",
   "execution_count": null,
   "metadata": {},
   "outputs": [],
   "source": [
    "Mainly H.T is been categorized as :\n",
    "1. Null Hypothesis\n",
    "2. Alternate Hypothesis\n",
    "Statistical Tests is always been performed for null hypothesis.\n",
    "mtlb test krne k baad hum ye bolege ki hum null hypothesis ko accept \n",
    "karege yea reject."
   ]
  },
  {
   "cell_type": "code",
   "execution_count": null,
   "metadata": {},
   "outputs": [],
   "source": [
    "world m ek bht bdi galat fehmi h ki aapka claim h whi null hypothesis\n",
    "h pr aisa humesha jaruri nhi h."
   ]
  },
  {
   "cell_type": "code",
   "execution_count": null,
   "metadata": {},
   "outputs": [],
   "source": [
    "Null hypothesis always includes equality signs =,>=,<=\n",
    "Alternate hypothesis doesnot have equality sign >,<,!="
   ]
  },
  {
   "cell_type": "code",
   "execution_count": null,
   "metadata": {},
   "outputs": [],
   "source": [
    "sabse pehhle jaise hee aapke pass claim aayega.\n",
    "aap us claim ko mathematics ki equation m likhoge\n",
    "ab us equation ka complement likha jayega.\n",
    "so ab aapke pass 2 equations ho gyi\n",
    "n now jis equation m bhi = ka sign h wo bn jayega null hypothesis \n",
    "and jo uska complement h wo bn jayega alternate hypothesis."
   ]
  }
 ],
 "metadata": {
  "kernelspec": {
   "display_name": "Python 3",
   "language": "python",
   "name": "python3"
  },
  "language_info": {
   "codemirror_mode": {
    "name": "ipython",
    "version": 3
   },
   "file_extension": ".py",
   "mimetype": "text/x-python",
   "name": "python",
   "nbconvert_exporter": "python",
   "pygments_lexer": "ipython3",
   "version": "3.7.1"
  }
 },
 "nbformat": 4,
 "nbformat_minor": 2
}
