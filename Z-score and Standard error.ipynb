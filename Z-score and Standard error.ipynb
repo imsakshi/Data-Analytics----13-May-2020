{
 "cells": [
  {
   "cell_type": "code",
   "execution_count": null,
   "metadata": {},
   "outputs": [],
   "source": [
    "As we know about distributions, two terms are very important in distribution:\n",
    "1. Mean\n",
    "2. Standard Deviation\n",
    "Generally using mean and std dev we can draw a picture of the data distribution\n",
    "\n",
    "Z-score is known as Standard score.\n",
    "We can define a standard score(Z-score) using mean and std dev to help us understand where an individual score\n",
    "falls in relation to other scores.\n",
    "Standarization is simply a process of converting each score in a distribution to z-score.\n",
    "A z-score is a number that indicates how far above or below the mean of a given distribution is in\n",
    "std dev units."
   ]
  },
  {
   "cell_type": "code",
   "execution_count": null,
   "metadata": {},
   "outputs": [],
   "source": [
    "Eg: vikrant : 5ft 10 inches\n",
    "    satish  : 5ft  4 inches.\n",
    "satish is 6 inches smaller than vikrant, yha pr unit inches h\n",
    "Raw score ------------------------ std deviation units\n",
    "This process is known as Z-score."
   ]
  },
  {
   "cell_type": "code",
   "execution_count": null,
   "metadata": {},
   "outputs": [],
   "source": [
    "Ruddri:\n",
    "    Biology : 65/100\n",
    "    Statistics : 42/200\n",
    "ques. In which exam ruddri performed better?\n",
    "Ans: Biology(Thoda sa ruko or muskurao)\n",
    "To answer this question we should have mean and std dev of each subject distribution\n",
    "and generate Z-score"
   ]
  },
  {
   "cell_type": "code",
   "execution_count": null,
   "metadata": {},
   "outputs": [],
   "source": [
    "Biology wala distribution                    statistics wala distribution\n",
    "mean = 60                                     mean = 37\n",
    "std = 10                                      std = 5\n",
    "agr aap bio wala distribution dekho then you are 5 points above mean \n",
    "std dev --- half of std dev\n",
    "agr aap statistics wala distribution dekho then you are\n",
    "mean ---- 5 points above mean\n",
    "std dev ---- full std dev upr ho.\n",
    "ques. In which exam ruddri performed better?\n",
    "Ans: Statistics."
   ]
  },
  {
   "cell_type": "code",
   "execution_count": null,
   "metadata": {},
   "outputs": [],
   "source": [
    "z-score batata hai aapki height and india m jitne logo ki height\n",
    "ka jo distribution bnega usme kya relationship h.\n",
    "AAp m s kitne logo ne iit ka xm dia h?\n",
    "cut-off kya h %---- 40%\n",
    "Agr aapne cat yea gate dia to jo result aata h usme percentile aati h.\n",
    "cat ---- 65%percentile.\n",
    "Soon you will understsnd this!"
   ]
  },
  {
   "cell_type": "code",
   "execution_count": null,
   "metadata": {},
   "outputs": [],
   "source": [
    "Most of the times it is very difficult to compare two scores on two variables and specially when \n",
    "variables use different scale.\n",
    "Z-score helps here---\n",
    "     z = (x - mu)/sigma \n",
    "here, x = observation , mu = mean , sigma = std dev\n",
    "if x is above mean then z-score is positive.\n",
    "if x is below mean then z-score is negative.\n",
    "Formula likh lia, use-case bhi samaj lia ab interpretation bhi kr lete h.\n",
    "Z- score tells us instantly how large or small an individual score is relative to\n",
    "other scores in distribution.\n",
    "ab jaldi s upar wale dataset bio or stats ka z-score nikalo\n",
    "\n",
    "z-score for Biology = {0.5}                    Z-score for statistics = {1.0}\n",
    "Note: Z score positive hone ka matlab aap mean s upr ho\n",
    "in bio : we are 5 poibts above mean and half above std dev \n",
    "in stats : we are 5 points above mean and on equal std dev.\n",
    "maan lo kisi instance ka z-score -1.5 h\n",
    "a. it is 1.5 std dev below the mean.\n",
    "yea fir 0.29 h ----- 0.29 std dev above the mean."
   ]
  },
  {
   "cell_type": "code",
   "execution_count": null,
   "metadata": {},
   "outputs": [],
   "source": [
    "One another useful feature of z-score and standarization is that it can help us determine percentile scores when \n",
    "used with a normal distribution?\n",
    "Eg: GRE exam (800 marks) ----- 90th percentile.\n",
    "ques: Which score marks the 90th percentile? for what score 10% of distribution scored above and \n",
    "    90%below.\n",
    "Ans: To answer these type of questions we use z-score table that depict area under the curve\n",
    "    for a normal distribution.\n",
    "    \n",
    "EG: 95% of students at school are between 1.1m and 1.7mtall. Assuming the data is normally distributed\n",
    "    calculate the mean and std dev?\n",
    "    mean = (1.1 + 1.7) = 1.4m    \n",
    "    95% is 2 std dev either side of the mean(it means total of 4 std dev)\n",
    "    \n",
    "    1 std dev = (1.7-1.1)/4 = 0.15m\n",
    "    \n",
    "    "
   ]
  },
  {
   "cell_type": "code",
   "execution_count": null,
   "metadata": {},
   "outputs": [],
   "source": [
    "so ab hum seekhege z score table read krna.                  z-score === 1.29\n",
    "z-score ---- 0.15                                            1.29 = {1.2,0.09}\n",
    "z-score table tens k shifted hoti h                          table: .90147 === 90.14%\n",
    "0.15 ko 2 parts p break krna hota h                          1-0.90147 = 0.09853\n",
    "0.15 ---- (0.1 and 0.05)\n",
    "row ---- for 0.1\n",
    "col ---- for 0.05\n",
    "age z score 0.15 h === 0.55962 ---- 55.96%\n",
    "55.96% of the distribution has a z score of 0.15 or less.\n",
    "it is 55.96% above the mean\n",
    "      44.04% below the mean\n",
    "44.04% tells us that the probability of getting a z-score of 0.15 \n",
    "       by chance is 0.4404\n",
    "iska mtlb h ki agr aap mbbs k paper m baitho to by chance aapne \n",
    "2 yea 4 percentile aane ki probability bht zyada h."
   ]
  },
  {
   "cell_type": "code",
   "execution_count": null,
   "metadata": {},
   "outputs": [],
   "source": [
    "In statistics, the probability of getting a particular statistics(test or score)\n",
    "by chance is called p-value."
   ]
  },
  {
   "cell_type": "code",
   "execution_count": null,
   "metadata": {},
   "outputs": [],
   "source": [
    "As z-value get larger, the proportion of below normal distribution\n",
    "velow the z score increases and the p- value becomes smaller\n",
    "we can write for larger z score , the furthur out the score will be in the tailof the \n",
    "normal distributions."
   ]
  },
  {
   "cell_type": "code",
   "execution_count": null,
   "metadata": {},
   "outputs": [],
   "source": [
    "Eg: GRE ----- MM(800) mean = 517  std = 100\n",
    "ques) at what score we get 90 percentile?\n",
    "Ans: sabse pehle 90%ile ko z-score k table se read krna hoga ki kon si aisi row or col h\n",
    "    jinke lie area under the curve is 90%\n",
    "read kr ke pta kr lia ki row ---- 1.2\n",
    "                         col ---0.09\n",
    "z-score = 1.29\n",
    "z = (x - mu)/sigma\n",
    "x = mu + z * sigma\n",
    "   517 + 1.29 * 100 = 646\n",
    "so gre m 90%ile lane k lie 646 marks lane padege 800 m se."
   ]
  },
  {
   "cell_type": "code",
   "execution_count": null,
   "metadata": {},
   "outputs": [],
   "source": [
    "x = 425 marks aaye h gre h, kitni percentile aayi h?\n",
    "mean = 517 , sigma = 100\n",
    "z = 425-517/100 = -0.92\n",
    "ab jake table m dekhna iska ones or tens\n",
    "row = -0.9\n",
    "col = 0.02\n",
    "table m dekha ---- .17872 \n",
    "18% of normal distribution will be under 425.\n",
    "Implementation;\n",
    "from sklear.preprocessing import StandardScaler\n",
    "std = StandardScaler()\n",
    "std.fit_transform(tips[\"total_bill\"])\n",
    "\n"
   ]
  },
  {
   "cell_type": "code",
   "execution_count": null,
   "metadata": {},
   "outputs": [],
   "source": [
    "By now we have learned z-score, p value and how to calculate it.\n",
    "Now lets just start with standard error , central limit theoram , Hypothesis testing.\n"
   ]
  },
  {
   "cell_type": "code",
   "execution_count": null,
   "metadata": {},
   "outputs": [],
   "source": [
    "standard error:\n",
    "    A standard error is, in effect, the standard deviation of sampling distributions of some statistics.\n",
    "2 words:\n",
    "    1. sampling distribution(ispe abhi aate h)\n",
    "    2. Some Statistics (some statistics metric most of the time it is mean)\n",
    "Imp note: standard error is the denominator in the formulas used to calculate many inferential\n",
    "          statistics.\n",
    "  Lets understood:\n",
    "    Lets suppose that you want to estimate the average height of indian population, and the pop\n",
    "    contains 130 crores observation obviously it is not possible to conduct an analysis with an entire\n",
    "    population data.\n",
    "    \n",
    "    For this i randomly draw a sample from the population.sabhi samples equal size k h.\n",
    "    and sabko randomly choose kia gya h.\n",
    "    \n",
    "    Shubhangi : 1000 indians people ki height --- (Maharashtra)\n",
    "    Aakanksha : 1000 indians people ki height --- (Kerala)\n",
    "    Saqib     :  1000                       ---- (haryana)\n",
    "    Avinash :    1000                       ---- (Assam)\n",
    "    satish :     1000                      -----(UP)\n",
    "  so i have 5 samples. suppose the population mean is 5ft 6 inches.  \n",
    "   Now, haryanvi or maharashtrians wo aam taur pr lambe hote h unke genes ki wajah s \n",
    "   Agr kalko maine in 5 samples ka mean nikala toh woh pop mean s kaafi alag aa sakta h.  \n",
    "    yehi difference appka standard error bnta h.\n",
    "    Matllab ki tmhare sample mein aam taur pr galti ki kitni gunzainsh  hai."
   ]
  },
  {
   "cell_type": "code",
   "execution_count": null,
   "metadata": {},
   "outputs": [],
   "source": [
    "  Shubhangi : 1000 indians people ki height --- (Maharashtra)--- average mean  5.1\n",
    "    Aakanksha : 1000 indians people ki height --- (Kerala)---- 5.12\n",
    "    Saqib     :  1000                       ---- (haryana)---- 6.2\n",
    "    Avinash :    1000                       ---- (Assam)---- 5.11\n",
    "    satish :     1000                      -----(UP)--- 5.01\n",
    "    sakshi : 1000                         ----- 5.62"
   ]
  },
  {
   "cell_type": "code",
   "execution_count": null,
   "metadata": {},
   "outputs": [],
   "source": [
    "In technical terms, if we were to take 1000 different random samples \n",
    "of height of eavh sample which has the same number of observation\n",
    "and then compute the avg height of each sample , then these \n",
    "6 sample means would form a distribution of their own."
   ]
  },
  {
   "cell_type": "code",
   "execution_count": null,
   "metadata": {},
   "outputs": [],
   "source": [
    "Some more important insights related to this topic:\n",
    "so far we have seen that we need multiple samples from the population to standard error,\n",
    "this is not an optimal approach.\n",
    "\n",
    "The essential question is that how can we make inferences about a larger population on the basis \n",
    "of one sample?\n",
    "Ab answer samjho:\n",
    "    we need to carefully examine two characterstics of the sample :\n",
    "        1. No of observations\n",
    "        2. std dev of the sample\n",
    "points ho gye, ab explainations and u r going to like it.\n",
    "if we keep on increasing the size of sample, one day its size will be equal to population.\n",
    "\n",
    "a. The larger the sample is , the less the error \n",
    "b. The larger the sample std dev is, the greater is the assumed variation of the scores in the population\n",
    "    and consequently the larger the std dev of mean.\n",
    "\n",
    "EG:  shubhangi : 5.10 {min : 3.5 and max : 7.2}\n",
    "      sakshi : 5.62 {min : 5.1 and max: 5.9}\n",
    "So kiske sample m variability jyada h? --- shubhangi\n",
    "\n"
   ]
  },
  {
   "cell_type": "code",
   "execution_count": null,
   "metadata": {},
   "outputs": [],
   "source": [
    "agr pop mean nhi malum lekin ye malum h ki variablity kitni h \n",
    "ki min height n max height malum h ?\n",
    "To bhi aap bta sakte ho ki kon sa sample best h?\n",
    "Yes, you can tell.\n",
    "here my sample is best qki mere sample m variability km h."
   ]
  }
 ],
 "metadata": {
  "kernelspec": {
   "display_name": "Python 3",
   "language": "python",
   "name": "python3"
  },
  "language_info": {
   "codemirror_mode": {
    "name": "ipython",
    "version": 3
   },
   "file_extension": ".py",
   "mimetype": "text/x-python",
   "name": "python",
   "nbconvert_exporter": "python",
   "pygments_lexer": "ipython3",
   "version": "3.7.1"
  }
 },
 "nbformat": 4,
 "nbformat_minor": 2
}
