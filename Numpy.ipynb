{
  "nbformat": 4,
  "nbformat_minor": 0,
  "metadata": {
    "colab": {
      "name": "Numpy.ipynb",
      "provenance": [],
      "authorship_tag": "ABX9TyO1tk5PGNyl4yvCb3bwEQfd",
      "include_colab_link": true
    },
    "kernelspec": {
      "name": "python3",
      "display_name": "Python 3"
    }
  },
  "cells": [
    {
      "cell_type": "markdown",
      "metadata": {
        "id": "view-in-github",
        "colab_type": "text"
      },
      "source": [
        "<a href=\"https://colab.research.google.com/github/imsakshi/Data-Analytics----13-May-2020/blob/master/Numpy.ipynb\" target=\"_parent\"><img src=\"https://colab.research.google.com/assets/colab-badge.svg\" alt=\"Open In Colab\"/></a>"
      ]
    },
    {
      "cell_type": "code",
      "metadata": {
        "id": "N6a3UWlLfQWD",
        "colab_type": "code",
        "colab": {}
      },
      "source": [
        "import numpy as np"
      ],
      "execution_count": 0,
      "outputs": []
    },
    {
      "cell_type": "code",
      "metadata": {
        "id": "TUJoJ7DfgAyn",
        "colab_type": "code",
        "colab": {}
      },
      "source": [
        "#4 important attributes of numpy array aclass.\n",
        ".dtype \n",
        ".ndim\n",
        ".shape\n",
        ".size\n"
      ],
      "execution_count": 0,
      "outputs": []
    },
    {
      "cell_type": "markdown",
      "metadata": {
        "id": "HHXF4i3pgcjl",
        "colab_type": "text"
      },
      "source": [
        "**Random functions in numpy**"
      ]
    },
    {
      "cell_type": "code",
      "metadata": {
        "id": "IZ86p2FmgSpd",
        "colab_type": "code",
        "colab": {}
      },
      "source": [
        "images ------ numpy array. ----- dimension ---- weight "
      ],
      "execution_count": 0,
      "outputs": []
    },
    {
      "cell_type": "code",
      "metadata": {
        "id": "Hwi1bDvRkbgr",
        "colab_type": "code",
        "colab": {}
      },
      "source": [
        "import numpy as np"
      ],
      "execution_count": 0,
      "outputs": []
    },
    {
      "cell_type": "code",
      "metadata": {
        "id": "9KwEmev0kfhF",
        "colab_type": "code",
        "colab": {
          "base_uri": "https://localhost:8080/",
          "height": 51
        },
        "outputId": "19eabdc5-1d15-492c-912d-70281616ca96"
      },
      "source": [
        "np.random.rand(2,3)"
      ],
      "execution_count": 5,
      "outputs": [
        {
          "output_type": "execute_result",
          "data": {
            "text/plain": [
              "array([[0.60376095, 0.20645212, 0.1336947 ],\n",
              "       [0.57497067, 0.68620942, 0.33347033]])"
            ]
          },
          "metadata": {
            "tags": []
          },
          "execution_count": 5
        }
      ]
    },
    {
      "cell_type": "markdown",
      "metadata": {
        "id": "lefDddLdlMRn",
        "colab_type": "text"
      },
      "source": [
        "Normal Distribution: It is also known as Gaussian Distribution\n",
        "Carl gauss ko mathematician ka mathematician kehte h.\n",
        "the man who knew infinity?\n",
        "Assignment ."
      ]
    },
    {
      "cell_type": "markdown",
      "metadata": {
        "id": "uZo08xo2mC7C",
        "colab_type": "text"
      },
      "source": [
        ""
      ]
    },
    {
      "cell_type": "code",
      "metadata": {
        "id": "zR4T70sFk2yb",
        "colab_type": "code",
        "colab": {
          "base_uri": "https://localhost:8080/",
          "height": 265
        },
        "outputId": "cb130ef1-767b-458c-be21-33ccd100aa0b"
      },
      "source": [
        "x = np.random.randn(10000)\n",
        "import matplotlib.pyplot as plt\n",
        "plt.hist(x,bins = 100)\n",
        "plt.show()"
      ],
      "execution_count": 7,
      "outputs": [
        {
          "output_type": "display_data",
          "data": {
            "image/png": "[encoded data removed]",
            "text/plain": [
              "<Figure size 432x288 with 1 Axes>"
            ]
          },
          "metadata": {
            "tags": [],
            "needs_background": "light"
          }
        }
      ]
    },
    {
      "cell_type": "markdown",
      "metadata": {
        "id": "MmMZHi8BmGIx",
        "colab_type": "text"
      },
      "source": [
        "Central Limit Theoram : A large number of random variables often turns out to be normally distributed. A N.D is the mostly used distribution as many of the real world observations naturally tends to normally distributed.\n",
        "number of samples > 30 ------ Normal Distribution.\n",
        "**In Normal Distribution mean, median and mode tends to coincide .\n",
        "It creates a bell shape curve which is symmetric along the line u = X. and the curve is 1.**\n",
        "If you take the height of everybody in the world , then it is also normally distributed.\n",
        "Eg: IIT (10 lakh) 0 - 100\n",
        "a -- 56 b --- 64 , c -- 99 , d -- 45........\n",
        "In standard normal distribution mean = 0 , variance = 1"
      ]
    },
    {
      "cell_type": "code",
      "metadata": {
        "id": "ZP7Fz2VJo_ef",
        "colab_type": "code",
        "colab": {}
      },
      "source": [
        "#I am creating a dataset of 10000 people having average salary of 27k and std dev = 15000\n",
        "sal = np.random.normal(27000,15000,10000)\n"
      ],
      "execution_count": 0,
      "outputs": []
    },
    {
      "cell_type": "code",
      "metadata": {
        "id": "is63lvrnqNib",
        "colab_type": "code",
        "colab": {
          "base_uri": "https://localhost:8080/",
          "height": 51
        },
        "outputId": "f45c5e83-3a94-4dd2-e554-a42e3bac7b71"
      },
      "source": [
        "sal"
      ],
      "execution_count": 9,
      "outputs": [
        {
          "output_type": "execute_result",
          "data": {
            "text/plain": [
              "array([17768.30824748, -8796.60906234, 28142.87308814, ...,\n",
              "       34753.78872908, 15065.24667218, 32033.04072061])"
            ]
          },
          "metadata": {
            "tags": []
          },
          "execution_count": 9
        }
      ]
    },
    {
      "cell_type": "code",
      "metadata": {
        "id": "DY7bpSnEqOmI",
        "colab_type": "code",
        "colab": {
          "base_uri": "https://localhost:8080/",
          "height": 34
        },
        "outputId": "1f8fdb07-9788-4ee0-d9ba-5a92049f5737"
      },
      "source": [
        "np.mean(sal)"
      ],
      "execution_count": 10,
      "outputs": [
        {
          "output_type": "execute_result",
          "data": {
            "text/plain": [
              "26792.170337520176"
            ]
          },
          "metadata": {
            "tags": []
          },
          "execution_count": 10
        }
      ]
    },
    {
      "cell_type": "code",
      "metadata": {
        "id": "Ed0W-uWUqa42",
        "colab_type": "code",
        "colab": {
          "base_uri": "https://localhost:8080/",
          "height": 34
        },
        "outputId": "eb2dca12-bce7-4d98-a1f6-baba7b016a96"
      },
      "source": [
        "np.median(sal)"
      ],
      "execution_count": 11,
      "outputs": [
        {
          "output_type": "execute_result",
          "data": {
            "text/plain": [
              "26631.993326430238"
            ]
          },
          "metadata": {
            "tags": []
          },
          "execution_count": 11
        }
      ]
    },
    {
      "cell_type": "code",
      "metadata": {
        "id": "Cf0Qj7jSqj1Y",
        "colab_type": "code",
        "colab": {}
      },
      "source": [
        "#outliers -- values which lies very far from mean , list #append\n",
        "sal = np.append(sal,100000000000)"
      ],
      "execution_count": 0,
      "outputs": []
    },
    {
      "cell_type": "code",
      "metadata": {
        "id": "7CrqtigfrDU0",
        "colab_type": "code",
        "colab": {
          "base_uri": "https://localhost:8080/",
          "height": 34
        },
        "outputId": "428e4c36-59d9-4b78-ed7c-085ae1a4163d"
      },
      "source": [
        "sal.shape"
      ],
      "execution_count": 13,
      "outputs": [
        {
          "output_type": "execute_result",
          "data": {
            "text/plain": [
              "(10001,)"
            ]
          },
          "metadata": {
            "tags": []
          },
          "execution_count": 13
        }
      ]
    },
    {
      "cell_type": "code",
      "metadata": {
        "id": "EVcXiVFcrG0h",
        "colab_type": "code",
        "colab": {
          "base_uri": "https://localhost:8080/",
          "height": 34
        },
        "outputId": "d460fd17-8ab9-4cc3-c405-dcbaca79e0f9"
      },
      "source": [
        "np.mean(sal) #agr dataset m outlier present h then hum kbhi bhi nan values ko mean s fill nhi krte."
      ],
      "execution_count": 14,
      "outputs": [
        {
          "output_type": "execute_result",
          "data": {
            "text/plain": [
              "10025789.591378383"
            ]
          },
          "metadata": {
            "tags": []
          },
          "execution_count": 14
        }
      ]
    },
    {
      "cell_type": "code",
      "metadata": {
        "id": "KjA8WJQwrfz4",
        "colab_type": "code",
        "colab": {
          "base_uri": "https://localhost:8080/",
          "height": 34
        },
        "outputId": "bb80845f-42ac-4156-ee1c-00deb2f380f5"
      },
      "source": [
        "np.median(sal)"
      ],
      "execution_count": 16,
      "outputs": [
        {
          "output_type": "execute_result",
          "data": {
            "text/plain": [
              "26632.312483725127"
            ]
          },
          "metadata": {
            "tags": []
          },
          "execution_count": 16
        }
      ]
    },
    {
      "cell_type": "code",
      "metadata": {
        "id": "YVtacc8Trrqm",
        "colab_type": "code",
        "colab": {}
      },
      "source": [
        "a = np.array([[1,2,3],[4,5,6]])"
      ],
      "execution_count": 0,
      "outputs": []
    },
    {
      "cell_type": "code",
      "metadata": {
        "id": "kWP8SSugr66p",
        "colab_type": "code",
        "colab": {
          "base_uri": "https://localhost:8080/",
          "height": 51
        },
        "outputId": "d22573f4-1902-45cd-f7c2-781d08cd36d8"
      },
      "source": [
        "a"
      ],
      "execution_count": 18,
      "outputs": [
        {
          "output_type": "execute_result",
          "data": {
            "text/plain": [
              "array([[1, 2, 3],\n",
              "       [4, 5, 6]])"
            ]
          },
          "metadata": {
            "tags": []
          },
          "execution_count": 18
        }
      ]
    },
    {
      "cell_type": "code",
      "metadata": {
        "id": "uNzOFjqyr7vF",
        "colab_type": "code",
        "colab": {
          "base_uri": "https://localhost:8080/",
          "height": 34
        },
        "outputId": "d7e14b1b-b4a7-48b0-80b5-8f0c966c3695"
      },
      "source": [
        "np.mean(a,axis = 1) #R1 #NR1"
      ],
      "execution_count": 20,
      "outputs": [
        {
          "output_type": "execute_result",
          "data": {
            "text/plain": [
              "array([2., 5.])"
            ]
          },
          "metadata": {
            "tags": []
          },
          "execution_count": 20
        }
      ]
    },
    {
      "cell_type": "code",
      "metadata": {
        "id": "OkzqnNT3r-BI",
        "colab_type": "code",
        "colab": {
          "base_uri": "https://localhost:8080/",
          "height": 34
        },
        "outputId": "bd3cc1ce-8431-427b-9688-d7529401a7a9"
      },
      "source": [
        "np.mean(a,axis = 0) #columns"
      ],
      "execution_count": 21,
      "outputs": [
        {
          "output_type": "execute_result",
          "data": {
            "text/plain": [
              "array([2.5, 3.5, 4.5])"
            ]
          },
          "metadata": {
            "tags": []
          },
          "execution_count": 21
        }
      ]
    },
    {
      "cell_type": "code",
      "metadata": {
        "id": "DuP45KQ_so71",
        "colab_type": "code",
        "colab": {}
      },
      "source": [
        "ages = np.random.randint(18,90,100)"
      ],
      "execution_count": 0,
      "outputs": []
    },
    {
      "cell_type": "code",
      "metadata": {
        "id": "xjrlQzpas0Tt",
        "colab_type": "code",
        "colab": {
          "base_uri": "https://localhost:8080/",
          "height": 119
        },
        "outputId": "7cfe44e2-c695-4d19-f962-e6c7a206fb75"
      },
      "source": [
        "ages"
      ],
      "execution_count": 24,
      "outputs": [
        {
          "output_type": "execute_result",
          "data": {
            "text/plain": [
              "array([37, 50, 33, 51, 64, 68, 39, 28, 55, 85, 78, 41, 60, 59, 62, 89, 35,\n",
              "       51, 76, 63, 31, 72, 29, 25, 52, 86, 42, 69, 34, 39, 54, 88, 44, 89,\n",
              "       84, 31, 88, 56, 30, 47, 45, 68, 84, 45, 38, 60, 78, 20, 47, 58, 20,\n",
              "       63, 40, 27, 42, 60, 66, 30, 66, 68, 19, 64, 85, 32, 28, 83, 68, 38,\n",
              "       42, 73, 25, 29, 35, 52, 48, 27, 77, 43, 74, 38, 57, 20, 19, 85, 51,\n",
              "       89, 83, 58, 83, 22, 24, 75, 73, 38, 54, 50, 27, 62, 25, 82])"
            ]
          },
          "metadata": {
            "tags": []
          },
          "execution_count": 24
        }
      ]
    },
    {
      "cell_type": "code",
      "metadata": {
        "id": "XuD6I-nzsXOc",
        "colab_type": "code",
        "colab": {
          "base_uri": "https://localhost:8080/",
          "height": 34
        },
        "outputId": "10f75020-c842-40c8-c2bd-b65635808833"
      },
      "source": [
        "from scipy import stats \n",
        "stats.mode(ages)"
      ],
      "execution_count": 25,
      "outputs": [
        {
          "output_type": "execute_result",
          "data": {
            "text/plain": [
              "ModeResult(mode=array([38]), count=array([4]))"
            ]
          },
          "metadata": {
            "tags": []
          },
          "execution_count": 25
        }
      ]
    },
    {
      "cell_type": "code",
      "metadata": {
        "id": "7stb0SGdsXgL",
        "colab_type": "code",
        "colab": {
          "base_uri": "https://localhost:8080/",
          "height": 34
        },
        "outputId": "cd3f761e-49b8-4cfa-ae08-3d2dea1bb9e8"
      },
      "source": [
        "np.std(ages)"
      ],
      "execution_count": 26,
      "outputs": [
        {
          "output_type": "execute_result",
          "data": {
            "text/plain": [
              "20.848462773067947"
            ]
          },
          "metadata": {
            "tags": []
          },
          "execution_count": 26
        }
      ]
    },
    {
      "cell_type": "code",
      "metadata": {
        "id": "BOXUAQj9sXdI",
        "colab_type": "code",
        "colab": {
          "base_uri": "https://localhost:8080/",
          "height": 34
        },
        "outputId": "b5d3e75b-5948-48db-87c1-cb253798f86b"
      },
      "source": [
        "np.var(ages)"
      ],
      "execution_count": 27,
      "outputs": [
        {
          "output_type": "execute_result",
          "data": {
            "text/plain": [
              "434.6584"
            ]
          },
          "metadata": {
            "tags": []
          },
          "execution_count": 27
        }
      ]
    },
    {
      "cell_type": "code",
      "metadata": {
        "id": "f3U-yp6nsTLJ",
        "colab_type": "code",
        "colab": {}
      },
      "source": [
        "#suppose ages is population.\n",
        "sample1 = np.random.choice(ages,40)#random sampling."
      ],
      "execution_count": 0,
      "outputs": []
    },
    {
      "cell_type": "code",
      "metadata": {
        "id": "1JC9ylmJum90",
        "colab_type": "code",
        "colab": {
          "base_uri": "https://localhost:8080/",
          "height": 68
        },
        "outputId": "9074b17b-0162-49b8-d7b8-be5fe835fd57"
      },
      "source": [
        "sample1"
      ],
      "execution_count": 30,
      "outputs": [
        {
          "output_type": "execute_result",
          "data": {
            "text/plain": [
              "array([66, 51, 57, 32, 85, 89, 60, 64, 54, 42, 52, 38, 66, 24, 47, 34, 47,\n",
              "       29, 51, 54, 56, 45, 84, 24, 86, 89, 78, 20, 41, 73, 85, 63, 57, 19,\n",
              "       62, 66, 28, 33, 50, 31])"
            ]
          },
          "metadata": {
            "tags": []
          },
          "execution_count": 30
        }
      ]
    },
    {
      "cell_type": "code",
      "metadata": {
        "id": "AWvcYXErvAjn",
        "colab_type": "code",
        "colab": {}
      },
      "source": [
        "Shape manipulation.\n",
        "#ravel -- flatten the array\n",
        "#reshape ---  to modify the shape\n",
        "#resize --- to permanently change the shape."
      ],
      "execution_count": 0,
      "outputs": []
    },
    {
      "cell_type": "code",
      "metadata": {
        "id": "6tL5bF0Qu3Lj",
        "colab_type": "code",
        "colab": {
          "base_uri": "https://localhost:8080/",
          "height": 51
        },
        "outputId": "bc0f7e5c-ad76-4081-bed1-e3234882e560"
      },
      "source": [
        "a"
      ],
      "execution_count": 31,
      "outputs": [
        {
          "output_type": "execute_result",
          "data": {
            "text/plain": [
              "array([[1, 2, 3],\n",
              "       [4, 5, 6]])"
            ]
          },
          "metadata": {
            "tags": []
          },
          "execution_count": 31
        }
      ]
    },
    {
      "cell_type": "code",
      "metadata": {
        "id": "GZSW4pHAvTaa",
        "colab_type": "code",
        "colab": {
          "base_uri": "https://localhost:8080/",
          "height": 34
        },
        "outputId": "b9d61aa0-e57f-4c16-aaef-c520c41fc0e2"
      },
      "source": [
        "a.ravel()"
      ],
      "execution_count": 32,
      "outputs": [
        {
          "output_type": "execute_result",
          "data": {
            "text/plain": [
              "array([1, 2, 3, 4, 5, 6])"
            ]
          },
          "metadata": {
            "tags": []
          },
          "execution_count": 32
        }
      ]
    },
    {
      "cell_type": "code",
      "metadata": {
        "id": "Z00dK-7fvWyP",
        "colab_type": "code",
        "colab": {}
      },
      "source": [
        "reshape krte hue ek baat ka dhyan rakhna h\n",
        "(a,b) = a*b = size of array.\n",
        "(2,3) = 6 \n",
        "(3,2),(6,1),(1,6)\n"
      ],
      "execution_count": 0,
      "outputs": []
    },
    {
      "cell_type": "code",
      "metadata": {
        "id": "ehgf0sEQwGTB",
        "colab_type": "code",
        "colab": {
          "base_uri": "https://localhost:8080/",
          "height": 68
        },
        "outputId": "2775431c-ef62-459d-923e-b94666d4bd87"
      },
      "source": [
        "a.reshape(3,2)#modify"
      ],
      "execution_count": 33,
      "outputs": [
        {
          "output_type": "execute_result",
          "data": {
            "text/plain": [
              "array([[1, 2],\n",
              "       [3, 4],\n",
              "       [5, 6]])"
            ]
          },
          "metadata": {
            "tags": []
          },
          "execution_count": 33
        }
      ]
    },
    {
      "cell_type": "code",
      "metadata": {
        "id": "OH-wJEMqwI_n",
        "colab_type": "code",
        "colab": {
          "base_uri": "https://localhost:8080/",
          "height": 51
        },
        "outputId": "337974be-0d10-4bbf-899b-992de5e71ddb"
      },
      "source": [
        "a"
      ],
      "execution_count": 34,
      "outputs": [
        {
          "output_type": "execute_result",
          "data": {
            "text/plain": [
              "array([[1, 2, 3],\n",
              "       [4, 5, 6]])"
            ]
          },
          "metadata": {
            "tags": []
          },
          "execution_count": 34
        }
      ]
    },
    {
      "cell_type": "code",
      "metadata": {
        "id": "Me5WHyDfwQAi",
        "colab_type": "code",
        "colab": {}
      },
      "source": [
        "a.resize(3,2)#changes the permanently."
      ],
      "execution_count": 0,
      "outputs": []
    },
    {
      "cell_type": "code",
      "metadata": {
        "id": "LNeXadcBwYuZ",
        "colab_type": "code",
        "colab": {
          "base_uri": "https://localhost:8080/",
          "height": 68
        },
        "outputId": "d233b010-392d-47aa-d8cc-789aaf2e50e2"
      },
      "source": [
        "a"
      ],
      "execution_count": 36,
      "outputs": [
        {
          "output_type": "execute_result",
          "data": {
            "text/plain": [
              "array([[1, 2],\n",
              "       [3, 4],\n",
              "       [5, 6]])"
            ]
          },
          "metadata": {
            "tags": []
          },
          "execution_count": 36
        }
      ]
    },
    {
      "cell_type": "code",
      "metadata": {
        "id": "VBfU1KMDwZgJ",
        "colab_type": "code",
        "colab": {
          "base_uri": "https://localhost:8080/",
          "height": 34
        },
        "outputId": "dd73799c-6bf6-4341-a6bc-caa1785433c5"
      },
      "source": [
        "#array manipulation\n",
        "np.append(a,1)"
      ],
      "execution_count": 37,
      "outputs": [
        {
          "output_type": "execute_result",
          "data": {
            "text/plain": [
              "array([1, 2, 3, 4, 5, 6, 1])"
            ]
          },
          "metadata": {
            "tags": []
          },
          "execution_count": 37
        }
      ]
    },
    {
      "cell_type": "code",
      "metadata": {
        "id": "V8-KACGLwzPE",
        "colab_type": "code",
        "colab": {
          "base_uri": "https://localhost:8080/",
          "height": 34
        },
        "outputId": "6ccabea0-1b42-4603-d8c8-71b2b9fa013a"
      },
      "source": [
        "np.insert(a,2,9)"
      ],
      "execution_count": 38,
      "outputs": [
        {
          "output_type": "execute_result",
          "data": {
            "text/plain": [
              "array([1, 2, 9, 3, 4, 5, 6])"
            ]
          },
          "metadata": {
            "tags": []
          },
          "execution_count": 38
        }
      ]
    },
    {
      "cell_type": "code",
      "metadata": {
        "id": "zQIXldL1xBCv",
        "colab_type": "code",
        "colab": {
          "base_uri": "https://localhost:8080/",
          "height": 68
        },
        "outputId": "e43bcccb-b8ba-469f-b91b-014aa171b42f"
      },
      "source": [
        "a"
      ],
      "execution_count": 39,
      "outputs": [
        {
          "output_type": "execute_result",
          "data": {
            "text/plain": [
              "array([[1, 2],\n",
              "       [3, 4],\n",
              "       [5, 6]])"
            ]
          },
          "metadata": {
            "tags": []
          },
          "execution_count": 39
        }
      ]
    },
    {
      "cell_type": "code",
      "metadata": {
        "id": "uCGQ6hIGxKmz",
        "colab_type": "code",
        "colab": {}
      },
      "source": [
        "b = np.array([[10,11],[12,13],[14,15]])"
      ],
      "execution_count": 0,
      "outputs": []
    },
    {
      "cell_type": "code",
      "metadata": {
        "id": "hG32LygJxSHU",
        "colab_type": "code",
        "colab": {
          "base_uri": "https://localhost:8080/",
          "height": 68
        },
        "outputId": "54222b7d-7f05-4716-a151-835cd895b234"
      },
      "source": [
        "b"
      ],
      "execution_count": 42,
      "outputs": [
        {
          "output_type": "execute_result",
          "data": {
            "text/plain": [
              "array([[10, 11],\n",
              "       [12, 13],\n",
              "       [14, 15]])"
            ]
          },
          "metadata": {
            "tags": []
          },
          "execution_count": 42
        }
      ]
    },
    {
      "cell_type": "code",
      "metadata": {
        "id": "ejFUWXo0xXL9",
        "colab_type": "code",
        "colab": {
          "base_uri": "https://localhost:8080/",
          "height": 68
        },
        "outputId": "fbd8463c-6898-4cda-e968-0238a64fffab"
      },
      "source": [
        "a + b"
      ],
      "execution_count": 43,
      "outputs": [
        {
          "output_type": "execute_result",
          "data": {
            "text/plain": [
              "array([[11, 13],\n",
              "       [15, 17],\n",
              "       [19, 21]])"
            ]
          },
          "metadata": {
            "tags": []
          },
          "execution_count": 43
        }
      ]
    },
    {
      "cell_type": "code",
      "metadata": {
        "id": "mYcjrTj8xbkB",
        "colab_type": "code",
        "colab": {
          "base_uri": "https://localhost:8080/",
          "height": 119
        },
        "outputId": "90c50340-8cc2-41af-a297-15ddd53e9cea"
      },
      "source": [
        "#combine an array\n",
        "np.concatenate((a,b))"
      ],
      "execution_count": 44,
      "outputs": [
        {
          "output_type": "execute_result",
          "data": {
            "text/plain": [
              "array([[ 1,  2],\n",
              "       [ 3,  4],\n",
              "       [ 5,  6],\n",
              "       [10, 11],\n",
              "       [12, 13],\n",
              "       [14, 15]])"
            ]
          },
          "metadata": {
            "tags": []
          },
          "execution_count": 44
        }
      ]
    },
    {
      "cell_type": "code",
      "metadata": {
        "id": "slh18MJpxkYV",
        "colab_type": "code",
        "colab": {
          "base_uri": "https://localhost:8080/",
          "height": 119
        },
        "outputId": "aea058eb-ff4b-4150-ca36-43299c1d19ec"
      },
      "source": [
        "np.vstack((a,b))"
      ],
      "execution_count": 45,
      "outputs": [
        {
          "output_type": "execute_result",
          "data": {
            "text/plain": [
              "array([[ 1,  2],\n",
              "       [ 3,  4],\n",
              "       [ 5,  6],\n",
              "       [10, 11],\n",
              "       [12, 13],\n",
              "       [14, 15]])"
            ]
          },
          "metadata": {
            "tags": []
          },
          "execution_count": 45
        }
      ]
    },
    {
      "cell_type": "code",
      "metadata": {
        "id": "y5XUJClLyV94",
        "colab_type": "code",
        "colab": {
          "base_uri": "https://localhost:8080/",
          "height": 68
        },
        "outputId": "1abd1d63-ee37-4019-d663-049725407b6b"
      },
      "source": [
        "np.hstack((a,b))"
      ],
      "execution_count": 46,
      "outputs": [
        {
          "output_type": "execute_result",
          "data": {
            "text/plain": [
              "array([[ 1,  2, 10, 11],\n",
              "       [ 3,  4, 12, 13],\n",
              "       [ 5,  6, 14, 15]])"
            ]
          },
          "metadata": {
            "tags": []
          },
          "execution_count": 46
        }
      ]
    },
    {
      "cell_type": "code",
      "metadata": {
        "id": "_wY-WJn7ybU2",
        "colab_type": "code",
        "colab": {
          "base_uri": "https://localhost:8080/",
          "height": 68
        },
        "outputId": "7bb52a18-f0c4-4b2b-b2db-853ace257750"
      },
      "source": [
        "#mathematical operations\n",
        "np.add(a,b)"
      ],
      "execution_count": 47,
      "outputs": [
        {
          "output_type": "execute_result",
          "data": {
            "text/plain": [
              "array([[11, 13],\n",
              "       [15, 17],\n",
              "       [19, 21]])"
            ]
          },
          "metadata": {
            "tags": []
          },
          "execution_count": 47
        }
      ]
    },
    {
      "cell_type": "code",
      "metadata": {
        "id": "zU0T2sDKynwf",
        "colab_type": "code",
        "colab": {
          "base_uri": "https://localhost:8080/",
          "height": 68
        },
        "outputId": "5afd4ea6-dc8b-40ab-b7b3-5bc40a6975d6"
      },
      "source": [
        "np.subtract(a,b)"
      ],
      "execution_count": 49,
      "outputs": [
        {
          "output_type": "execute_result",
          "data": {
            "text/plain": [
              "array([[-9, -9],\n",
              "       [-9, -9],\n",
              "       [-9, -9]])"
            ]
          },
          "metadata": {
            "tags": []
          },
          "execution_count": 49
        }
      ]
    },
    {
      "cell_type": "code",
      "metadata": {
        "id": "lvGvDP9hyrBb",
        "colab_type": "code",
        "colab": {
          "base_uri": "https://localhost:8080/",
          "height": 34
        },
        "outputId": "c372bef3-6d7b-41aa-8632-93544d8a1393"
      },
      "source": [
        "np.sqrt(100)"
      ],
      "execution_count": 50,
      "outputs": [
        {
          "output_type": "execute_result",
          "data": {
            "text/plain": [
              "10.0"
            ]
          },
          "metadata": {
            "tags": []
          },
          "execution_count": 50
        }
      ]
    },
    {
      "cell_type": "code",
      "metadata": {
        "id": "39KNmHcLy6oD",
        "colab_type": "code",
        "colab": {}
      },
      "source": [
        "a = np.array([1,2,3,4,5])\n",
        "b = np.array([3])"
      ],
      "execution_count": 0,
      "outputs": []
    },
    {
      "cell_type": "code",
      "metadata": {
        "id": "q_JsP4E1zLTr",
        "colab_type": "code",
        "colab": {
          "base_uri": "https://localhost:8080/",
          "height": 163
        },
        "outputId": "14317239-90eb-4959-e090-022ecfa75c6e"
      },
      "source": [
        "a + b #broadcasting\n",
        "To perform any mathematical operation on two numpy arrays we should take care about\n",
        "two point:\n",
        "1. They both should have equal no of elements.\n",
        "2. Any of them consists of single element.\n"
      ],
      "execution_count": 53,
      "outputs": [
        {
          "output_type": "error",
          "ename": "ValueError",
          "evalue": "ignored",
          "traceback": [
            "\u001b[0;31m---------------------------------------------------------------------------\u001b[0m",
            "\u001b[0;31mValueError\u001b[0m                                Traceback (most recent call last)",
            "\u001b[0;32m<ipython-input-53-bd58363a63fc>\u001b[0m in \u001b[0;36m<module>\u001b[0;34m()\u001b[0m\n\u001b[0;32m----> 1\u001b[0;31m \u001b[0ma\u001b[0m \u001b[0;34m+\u001b[0m \u001b[0mb\u001b[0m\u001b[0;34m\u001b[0m\u001b[0;34m\u001b[0m\u001b[0m\n\u001b[0m",
            "\u001b[0;31mValueError\u001b[0m: operands could not be broadcast together with shapes (5,) (4,) "
          ]
        }
      ]
    },
    {
      "cell_type": "code",
      "metadata": {
        "id": "NDtX2jjs0BM1",
        "colab_type": "code",
        "colab": {
          "base_uri": "https://localhost:8080/",
          "height": 34
        },
        "outputId": "2ce549c9-dd29-4997-cdf0-8126fb3f963b"
      },
      "source": [
        "a + b"
      ],
      "execution_count": 55,
      "outputs": [
        {
          "output_type": "execute_result",
          "data": {
            "text/plain": [
              "array([4, 5, 6, 7, 8])"
            ]
          },
          "metadata": {
            "tags": []
          },
          "execution_count": 55
        }
      ]
    },
    {
      "cell_type": "code",
      "metadata": {
        "id": "ShPK8RWczbMq",
        "colab_type": "code",
        "colab": {}
      },
      "source": [
        ""
      ],
      "execution_count": 0,
      "outputs": []
    }
  ]
}