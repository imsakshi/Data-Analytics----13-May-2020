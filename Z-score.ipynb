{
 "cells": [
  {
   "cell_type": "code",
   "execution_count": null,
   "metadata": {},
   "outputs": [],
   "source": [
    "As we know about distributions, two terms are very important in distribution:\n",
    "1. Mean\n",
    "2. Standard Deviation\n",
    "Generally using mean and std dev we can draw a picture of the data distribution\n",
    "\n",
    "Z-score is known as Standard score.\n",
    "We can define a standard score(Z-score) using mean and std dev to help us understand where an individual score\n",
    "falls in relation to other scores.\n",
    "Standarization is simply a process of converting each score in a distribution to z-score.\n",
    "A z-score is a number that indicates how far above or below the mean of a given distribution is in\n",
    "std dev units."
   ]
  },
  {
   "cell_type": "code",
   "execution_count": null,
   "metadata": {},
   "outputs": [],
   "source": [
    "Eg: vikrant : 5ft 10 inches\n",
    "    satish  : 5ft  4 inches.\n",
    "satish is 6 inches smaller than vikrant, yha pr unit inches h\n",
    "Raw score ------------------------ std deviation units\n",
    "This process is known as Z-score."
   ]
  },
  {
   "cell_type": "code",
   "execution_count": null,
   "metadata": {},
   "outputs": [],
   "source": [
    "Ruddri:\n",
    "    Biology : 65/100\n",
    "    Statistics : 42/200\n",
    "ques. In which exam ruddri performed better?\n",
    "Ans: Biology(Thoda sa ruko or muskurao)\n",
    "To answer this question we should have mean and std dev of each subject distribution\n",
    "and generate Z-score"
   ]
  },
  {
   "cell_type": "code",
   "execution_count": null,
   "metadata": {},
   "outputs": [],
   "source": [
    "Biology wala distribution                    statistics wala distribution\n",
    "mean = 60                                     mean = 37\n",
    "std = 10                                      std = 5\n",
    "agr aap bio wala distribution dekho then you are 5 points above mean \n",
    "std dev --- half of std dev\n",
    "agr aap statistics wala distribution dekho then you are\n",
    "mean ---- 5 points above mean\n",
    "std dev ---- full std dev upr ho.\n",
    "ques. In which exam ruddri performed better?\n",
    "Ans: Statistics."
   ]
  },
  {
   "cell_type": "code",
   "execution_count": null,
   "metadata": {},
   "outputs": [],
   "source": [
    "z-score batata hai aapki height and india m jitne logo ki height\n",
    "ka jo distribution bnega usme kya relationship h.\n",
    "AAp m s kitne logo ne iit ka xm dia h?\n",
    "cut-off kya h %---- 40%\n",
    "Agr aapne cat yea gate dia to jo result aata h usme percentile aati h.\n",
    "cat ---- 65%percentile.\n",
    "Soon you will understsnd this!"
   ]
  },
  {
   "cell_type": "code",
   "execution_count": null,
   "metadata": {},
   "outputs": [],
   "source": [
    "Most of the times it is very difficult to compare two scores on two variables and specially when \n",
    "variables use different scale.\n",
    "Z-score helps here---\n",
    "     z = (x - mu)/sigma \n",
    "here, x = observation , mu = mean , sigma = std dev\n",
    "if x is above mean then z-score is positive.\n",
    "if x is below mean then z-score is negative.\n",
    "Formula likh lia, use-case bhi samaj lia ab interpretation bhi kr lete h.\n",
    "Z- score tells us instantly how large or small an individual score is relative to\n",
    "other scores in distribution.\n",
    "ab jaldi s upar wale dataset bio or stats ka z-score nikalo\n",
    "\n",
    "z-score for Biology = {0.5}                    Z-score for statistics = {1.0}\n",
    "Note: Z score positive hone ka matlab aap mean s upr ho\n",
    "in bio : we are 5 poibts above mean and half above std dev \n",
    "in stats : we are 5 points above mean and on equal std dev.\n",
    "maan lo kisi instance ka z-score -1.5 h\n",
    "a. it is 1.5 std dev below the mean.\n",
    "yea fir 0.29 h ----- 0.29 std dev above the mean."
   ]
  },
  {
   "cell_type": "code",
   "execution_count": null,
   "metadata": {},
   "outputs": [],
   "source": [
    "One another useful feature of z-score and standarization is that it can help us determine percentile scores when \n",
    "used with a normal distribution?\n",
    "Eg: GRE exam (800 marks) ----- 90th percentile.\n",
    "ques: Which score marks the 90th percentile? for what score 10% of distribution scored above and \n",
    "    90%below.\n",
    "Ans: To answer these type of questions we use z-score table that depict area under the curve\n",
    "    for a normal distribution.\n",
    "    \n",
    "EG: 95% of students at school are between 1.1m and 1.7mtall. Assuming the data is normally distributed\n",
    "    calculate the mean and std dev?\n",
    "    mean = (1.1 + 1.7) = 1.4m    \n",
    "    95% is 2 std dev either side of the mean(it means total of 4 std dev)\n",
    "    \n",
    "    1 std dev = (1.7-1.1)/4 = 0.15m\n",
    "    \n",
    "    "
   ]
  }
 ],
 "metadata": {
  "kernelspec": {
   "display_name": "Python 3",
   "language": "python",
   "name": "python3"
  },
  "language_info": {
   "codemirror_mode": {
    "name": "ipython",
    "version": 3
   },
   "file_extension": ".py",
   "mimetype": "text/x-python",
   "name": "python",
   "nbconvert_exporter": "python",
   "pygments_lexer": "ipython3",
   "version": "3.7.1"
  }
 },
 "nbformat": 4,
 "nbformat_minor": 2
}
