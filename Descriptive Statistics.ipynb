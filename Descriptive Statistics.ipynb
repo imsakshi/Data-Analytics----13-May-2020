{
 "cells": [
  {
   "cell_type": "code",
   "execution_count": null,
   "metadata": {},
   "outputs": [],
   "source": [
    "Statistics : Branch of mathematics which is used to provide information about distributions of data\n",
    "      either sample or population.\n",
    "Used to describe and predict about the data.\n",
    "Descriptive statistics\n",
    "Predictive Statistics/Inferential Statistics."
   ]
  },
  {
   "cell_type": "code",
   "execution_count": null,
   "metadata": {},
   "outputs": [],
   "source": [
    "Descriptive statistics: Describe the data\n",
    "    It provides us a summary statistics regarding measures of central tendency and measurment of variablity."
   ]
  },
  {
   "cell_type": "code",
   "execution_count": null,
   "metadata": {},
   "outputs": [],
   "source": [
    "1. measurment of central tendency:\n",
    "    1. mean or average : It is a number which depicts a lot about your data.\n",
    "        eg: there are 20 students avg marks of your batch is 78.\n",
    "        eg : there are 35 students and avg marks is 52.\n",
    "mean = summation of obs/no of obs.\n",
    "2. Median : Middle value of the dataset.\n",
    "    find. step1: arrange the data in any particular order -- ascending/descending.\n",
    "        step2 : we will look for middle value.\n",
    "Eg : 1,5,7,3,4\n",
    "    step1: 1,3,4,5,7 , its median is 4.\n",
    "eg: 1,5,7,3    mean = 1+5+7+3/4 = 4\n",
    "    step1: 1,3,5,7 , its median lower median = 3 upper median = 5\n",
    "                     median = mean of two middle elements.\n",
    "                     3 + 5 /2 = 4\n",
    "3.Mode : frequently occuring element.\n",
    "    1,2,3,4,5,5 = mode = 5\n",
    "students marks = [80,78,78,82,81,85,75.......,73]\n",
    "mean = 78\n",
    "median = 81.5\n",
    "mode = 78\n",
    "        "
   ]
  },
  {
   "cell_type": "code",
   "execution_count": null,
   "metadata": {},
   "outputs": [],
   "source": [
    "2. measurment of dispersion\n",
    " 1. Standard Deviation: Is a measure of the amount of variation or dispersion of a set of values.\n",
    "    A low std indicates that the values tends to be close to the mean, while high std\n",
    "    indicates that are spread out.\n",
    " 2. variance : square of std dev.\n",
    "India's two most popular batsman?\n",
    "1. Virat kohli        2. Rohit sharma\n",
    " avg run rate = 60         avg run rate = 50\n",
    "    \n",
    " variance :  15              variance : 5\n",
    "        Rohit sharma is more consistent than virat kohli as his variation is low.\n",
    " "
   ]
  },
  {
   "cell_type": "code",
   "execution_count": null,
   "metadata": {},
   "outputs": [],
   "source": [
    "Outliers : are the values which lies very far from the mean.\n",
    "    or something which is out of range .\n",
    "Humare data m bht baar null values present hoti h.\n",
    "age = [90 people entered their age but 10 logo apni age age nhi btayi]\n",
    "salary == usa k 10,000 logo ki avg sal h 25k$\n",
    "Ab is dataset m kisi ne Donald trump ki income add kr di.\n",
    "no. of obs = 10,001 , Donald trump income = 10000000$\n",
    "avg = ? will change a lot\n",
    "median = ?\n",
    "mode = ?\n",
    "Ab Samjate h ki why we discussed this?\n",
    "As per human psychology we are more prone to fill nan values with mean.\n",
    "Lekin agr aapke dataset m outlier h jaise yha donald trump ki income thi,\n",
    "so hum kbhi bhi nan values ko mean s replace nhi karenge.\n",
    "instead median or mode s kr sakte h\n",
    "ki aap kaise find out karege ki data m outlier present h?\n",
    "By drawing Box-Plot of the dataset.\n",
    "manually.\n",
    "IQR (Inter-quartile Range):\n",
    "    Quartile : To divide your data into four equal parts.\n",
    "        1-100 = 25,50,75\n",
    "How to calculate quartiles?\n",
    "Q1 = [N/4]th item\n",
    "Q2  = [N/2]th item is also known as median\n",
    "Q3 = [3N/4]th item.\n",
    "data = [12,34,56,76,84,95] #data should be arranged in ascending order\n",
    "Q1 = 6/4 = 2nd item = 34 [25th percentile]\n",
    "Q2 = 6/2 = 3rd item = 56 [50th percentile]\n",
    "Q3 = 3*6/4 = 5th item = 84 [75th percentile]\n",
    "        \n",
    "\n",
    "\n"
   ]
  }
 ],
 "metadata": {
  "kernelspec": {
   "display_name": "Python 3",
   "language": "python",
   "name": "python3"
  },
  "language_info": {
   "codemirror_mode": {
    "name": "ipython",
    "version": 3
   },
   "file_extension": ".py",
   "mimetype": "text/x-python",
   "name": "python",
   "nbconvert_exporter": "python",
   "pygments_lexer": "ipython3",
   "version": "3.7.1"
  }
 },
 "nbformat": 4,
 "nbformat_minor": 2
}
