{
 "cells": [
  {
   "cell_type": "code",
   "execution_count": null,
   "metadata": {},
   "outputs": [],
   "source": [
    "Statistics : Branch of mathematics which is used to provide information about distributions of data\n",
    "      either sample or population.\n",
    "Used to describe and predict about the data.\n",
    "Descriptive statistics\n",
    "Predictive Statistics/Inferential Statistics."
   ]
  },
  {
   "cell_type": "code",
   "execution_count": null,
   "metadata": {},
   "outputs": [],
   "source": [
    "Descriptive statistics: Describe the data\n",
    "    It provides us a summary statistics regarding measures of central tendency and measurment of variablity."
   ]
  },
  {
   "cell_type": "code",
   "execution_count": null,
   "metadata": {},
   "outputs": [],
   "source": [
    "1. measurment of central tendency:\n",
    "    1. mean or average : It is a number which depicts a lot about your data.\n",
    "        eg: there are 20 students avg marks of your batch is 78.\n",
    "        eg : there are 35 students and avg marks is 52.\n",
    "mean = summation of obs/no of obs.\n",
    "2. Median : Middle value of the dataset.\n",
    "    find. step1: arrange the data in any particular order -- ascending/descending.\n",
    "        step2 : we will look for middle value.\n",
    "Eg : 1,5,7,3,4\n",
    "    step1: 1,3,4,5,7 , its median is 4.\n",
    "eg: 1,5,7,3    mean = 1+5+7+3/4 = 4\n",
    "    step1: 1,3,5,7 , its median lower median = 3 upper median = 5\n",
    "                     median = mean of two middle elements.\n",
    "                     3 + 5 /2 = 4\n",
    "3.Mode : frequently occuring element.\n",
    "    1,2,3,4,5,5 = mode = 5\n",
    "students marks = [80,78,78,82,81,85,75.......,73]\n",
    "mean = 78\n",
    "median = 81.5\n",
    "mode = 78\n",
    "        "
   ]
  },
  {
   "cell_type": "code",
   "execution_count": null,
   "metadata": {},
   "outputs": [],
   "source": [
    "2. measurment of dispersion\n",
    " 1. Standard Deviation: Is a measure of the amount of variation or dispersion of a set of values.\n",
    "    A low std indicates that the values tends to be close to the mean, while high std\n",
    "    indicates that are spread out.\n",
    " 2. variance : square of std dev.\n",
    "India's two most popular batsman?\n",
    "1. Virat kohli        2. Rohit sharma\n",
    " avg run rate = 60         avg run rate = 50\n",
    "    \n",
    " variance :  15              variance : 5\n",
    "        Rohit sharma is more consistent than virat kohli as his variation is low.\n",
    " "
   ]
  },
  {
   "cell_type": "code",
   "execution_count": null,
   "metadata": {},
   "outputs": [],
   "source": []
  },
  {
   "cell_type": "code",
   "execution_count": null,
   "metadata": {},
   "outputs": [],
   "source": [
    "Outliers : are the values which lies very far from the mean.\n",
    "    or something which is out of range .\n",
    "Humare data m bht baar null values present hoti h.\n",
    "age = [90 people entered their age but 10 logo apni age age nhi btayi]\n",
    "salary == usa k 10,000 logo ki avg sal h 25k$\n",
    "Ab is dataset m kisi ne Donald trump ki income add kr di.\n",
    "no. of obs = 10,001 , Donald trump income = 10000000$\n",
    "avg = ? will change a lot\n",
    "median = ?\n",
    "mode = ?\n",
    "Ab Samjate h ki why we discussed this?\n",
    "As per human psychology we are more prone to fill nan values with mean.\n",
    "Lekin agr aapke dataset m outlier h jaise yha donald trump ki income thi,\n",
    "so hum kbhi bhi nan values ko mean s replace nhi karenge.\n",
    "instead median or mode s kr sakte h\n",
    "ki aap kaise find out karege ki data m outlier present h?\n",
    "By drawing Box-Plot of the dataset.\n",
    "manually.\n",
    "IQR (Inter-quartile Range):\n",
    "    Quartile : To divide your data into four equal parts.\n",
    "        1-100 = 25,50,75\n",
    "How to calculate quartiles?\n",
    "Q1 = [N/4]th item\n",
    "Q2  = [N/2]th item is also known as median\n",
    "Q3 = [3N/4]th item.\n",
    "data = [12,34,56,76,84,95] #data should be arranged in ascending order\n",
    "Q1 = 6/4 = 2nd item = 34 [25th percentile]\n",
    "Q2 = 6/2 = 3rd item = 56 [50th percentile]\n",
    "Q3 = 3*6/4 = 5th item = 84 [75th percentile]\n",
    "        \n",
    "\n",
    "\n"
   ]
  },
  {
   "cell_type": "code",
   "execution_count": null,
   "metadata": {},
   "outputs": [],
   "source": [
    "Box-plots == tells us about presence of outliers in a dataset.\n",
    "I will show how we are going to make box-plot\n",
    "1st condition : To arrange the data in ascending order\n",
    "\n",
    "Boys = Time(in seconds)\n",
    "[16,17,18,19,19,20,22,22,23,23,24,25,25,27,28,31]\n",
    "To make a box plot we need five numbers:\n",
    "1. Lowest observation\n",
    "2. First Quartile(q1)\n",
    "3. Second Quartile(q2)\n",
    "4.Third Quartile(q3)\n",
    "5. Largest observation\n",
    "a. Lowest obs = 16\n",
    "b. first quartile = 16/4 = 4th item = 19\n",
    "c. Second quartile = 16/2 = 8th item = 22\n",
    "d. Third quartile = 3 * 16/4 = 12th item = 25\n",
    "e. Largest observation = 31\n"
   ]
  },
  {
   "cell_type": "code",
   "execution_count": null,
   "metadata": {},
   "outputs": [],
   "source": [
    "Different components of Box n whisker Plot:\n",
    "1. Upper and Lower Hinges - They are constructed to represent the \n",
    "third quartile and first quartile respectively.\n",
    "2. H-spread = it is calculated by taking the difference between\n",
    "  upper and lower hinges. The H-spread shows the spreadness of the \n",
    "    elements between the first and third quartiles.\n",
    "    H- spread = q3 - q1 = 6\n",
    "3. Whiskers - the lines extending above and below the box are called\n",
    "               whiskers. Lower whisker extends from the point corresponding to \n",
    "    the smallest observation to q1 and upper whisker extends from \n",
    "    largest observation to q3.\n",
    "4. step : The step is calculated by multiplying the H-spread by 1.5\n",
    "    step = 6 * 1.5 = 9\n",
    "5. Upper fence and lower fence = q3 + step\n",
    "                                 25 + 9 = 34\n",
    "    lower fence = q1 - step\n",
    "                  19 - 9 = 10\n",
    "        \n",
    "aAgr data m koi bhi value upper yea lower fence s bhar h\n",
    "iska mtlb data m outlier preset hai, otherwise nhi."
   ]
  },
  {
   "cell_type": "code",
   "execution_count": null,
   "metadata": {},
   "outputs": [],
   "source": [
    "Girls = [14,15,16,17,17,17,18,18,18,19,19,19,20,20,20,21,21,22,23,24,28]"
   ]
  },
  {
   "cell_type": "code",
   "execution_count": null,
   "metadata": {},
   "outputs": [],
   "source": [
    "1. smallest obs = 14\n",
    "2. q1 = 17\n",
    "3. q2 = 19\n",
    "q3 = 21\n",
    "larg obs = 28\n",
    "q3-q1 = 4\n",
    "step = 1.5 * 4 = 6\n",
    "21 + 6 = 27\n",
    "17-6 = 11"
   ]
  },
  {
   "cell_type": "code",
   "execution_count": null,
   "metadata": {},
   "outputs": [],
   "source": [
    "correlaion : A correlation is a statistical measure of the relationship between two variables.\n",
    "    Pearsons coefficient of correlation : Its value indicates the strength of the relationship between variables\n",
    "its value always lies between -1 to 1."
   ]
  },
  {
   "cell_type": "code",
   "execution_count": 1,
   "metadata": {},
   "outputs": [],
   "source": [
    "import pandas as pd"
   ]
  },
  {
   "cell_type": "code",
   "execution_count": 2,
   "metadata": {},
   "outputs": [],
   "source": [
    "TV = [1,3,2,1,3]\n",
    "cars = [14,24,18,17,27]"
   ]
  },
  {
   "cell_type": "code",
   "execution_count": 8,
   "metadata": {},
   "outputs": [
    {
     "data": {
      "text/plain": [
       "[(1, 14), (3, 24), (2, 18), (1, 17), (3, 27)]"
      ]
     },
     "execution_count": 8,
     "metadata": {},
     "output_type": "execute_result"
    }
   ],
   "source": [
    "list(zip(TV,cars))"
   ]
  },
  {
   "cell_type": "code",
   "execution_count": 6,
   "metadata": {},
   "outputs": [],
   "source": [
    "df = pd.DataFrame(zip(TV,cars),columns=[\"TV ads\",\"Cars Sold\"])"
   ]
  },
  {
   "cell_type": "code",
   "execution_count": 7,
   "metadata": {},
   "outputs": [
    {
     "data": {
      "text/html": [
       "<div>\n",
       "<style scoped>\n",
       "    .dataframe tbody tr th:only-of-type {\n",
       "        vertical-align: middle;\n",
       "    }\n",
       "\n",
       "    .dataframe tbody tr th {\n",
       "        vertical-align: top;\n",
       "    }\n",
       "\n",
       "    .dataframe thead th {\n",
       "        text-align: right;\n",
       "    }\n",
       "</style>\n",
       "<table border=\"1\" class=\"dataframe\">\n",
       "  <thead>\n",
       "    <tr style=\"text-align: right;\">\n",
       "      <th></th>\n",
       "      <th>TV ads</th>\n",
       "      <th>Cars Sold</th>\n",
       "    </tr>\n",
       "  </thead>\n",
       "  <tbody>\n",
       "    <tr>\n",
       "      <th>0</th>\n",
       "      <td>1</td>\n",
       "      <td>14</td>\n",
       "    </tr>\n",
       "    <tr>\n",
       "      <th>1</th>\n",
       "      <td>3</td>\n",
       "      <td>24</td>\n",
       "    </tr>\n",
       "    <tr>\n",
       "      <th>2</th>\n",
       "      <td>2</td>\n",
       "      <td>18</td>\n",
       "    </tr>\n",
       "    <tr>\n",
       "      <th>3</th>\n",
       "      <td>1</td>\n",
       "      <td>17</td>\n",
       "    </tr>\n",
       "    <tr>\n",
       "      <th>4</th>\n",
       "      <td>3</td>\n",
       "      <td>27</td>\n",
       "    </tr>\n",
       "  </tbody>\n",
       "</table>\n",
       "</div>"
      ],
      "text/plain": [
       "   TV ads  Cars Sold\n",
       "0       1         14\n",
       "1       3         24\n",
       "2       2         18\n",
       "3       1         17\n",
       "4       3         27"
      ]
     },
     "execution_count": 7,
     "metadata": {},
     "output_type": "execute_result"
    }
   ],
   "source": [
    "df"
   ]
  },
  {
   "cell_type": "code",
   "execution_count": 9,
   "metadata": {},
   "outputs": [
    {
     "data": {
      "text/html": [
       "<div>\n",
       "<style scoped>\n",
       "    .dataframe tbody tr th:only-of-type {\n",
       "        vertical-align: middle;\n",
       "    }\n",
       "\n",
       "    .dataframe tbody tr th {\n",
       "        vertical-align: top;\n",
       "    }\n",
       "\n",
       "    .dataframe thead th {\n",
       "        text-align: right;\n",
       "    }\n",
       "</style>\n",
       "<table border=\"1\" class=\"dataframe\">\n",
       "  <thead>\n",
       "    <tr style=\"text-align: right;\">\n",
       "      <th></th>\n",
       "      <th>TV ads</th>\n",
       "      <th>Cars Sold</th>\n",
       "    </tr>\n",
       "  </thead>\n",
       "  <tbody>\n",
       "    <tr>\n",
       "      <th>TV ads</th>\n",
       "      <td>1.000000</td>\n",
       "      <td>0.936586</td>\n",
       "    </tr>\n",
       "    <tr>\n",
       "      <th>Cars Sold</th>\n",
       "      <td>0.936586</td>\n",
       "      <td>1.000000</td>\n",
       "    </tr>\n",
       "  </tbody>\n",
       "</table>\n",
       "</div>"
      ],
      "text/plain": [
       "             TV ads  Cars Sold\n",
       "TV ads     1.000000   0.936586\n",
       "Cars Sold  0.936586   1.000000"
      ]
     },
     "execution_count": 9,
     "metadata": {},
     "output_type": "execute_result"
    }
   ],
   "source": [
    "df.corr()"
   ]
  },
  {
   "cell_type": "code",
   "execution_count": 11,
   "metadata": {},
   "outputs": [],
   "source": [
    "import matplotlib.pyplot as plt"
   ]
  },
  {
   "cell_type": "code",
   "execution_count": 12,
   "metadata": {},
   "outputs": [
    {
     "data": {
      "image/png": "[encoded data removed]",
      "text/plain": [
       "<Figure size 432x288 with 2 Axes>"
      ]
     },
     "metadata": {
      "needs_background": "light"
     },
     "output_type": "display_data"
    }
   ],
   "source": [
    "import seaborn as sns\n",
    "sns.heatmap(df.corr())\n",
    "plt.show()"
   ]
  },
  {
   "cell_type": "code",
   "execution_count": null,
   "metadata": {},
   "outputs": [],
   "source": []
  }
 ],
 "metadata": {
  "kernelspec": {
   "display_name": "Python 3",
   "language": "python",
   "name": "python3"
  },
  "language_info": {
   "codemirror_mode": {
    "name": "ipython",
    "version": 3
   },
   "file_extension": ".py",
   "mimetype": "text/x-python",
   "name": "python",
   "nbconvert_exporter": "python",
   "pygments_lexer": "ipython3",
   "version": "3.7.1"
  }
 },
 "nbformat": 4,
 "nbformat_minor": 2
}
