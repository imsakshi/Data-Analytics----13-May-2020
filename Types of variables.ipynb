{
 "cells": [
  {
   "cell_type": "code",
   "execution_count": null,
   "metadata": {},
   "outputs": [],
   "source": [
    "Statistics : \n",
    "    when we perform data analytics , it is very important to understand the type of data.\n",
    "In statistical research, a variable is defined as an attribute of an object of study.\n",
    "Types of variables:\n",
    "    majorly they are divided into two parts.\n",
    "    1. Quantitative --  represent amount eg: Height of a person\n",
    "    2. Qualitative or categorical -- represents group. gender."
   ]
  },
  {
   "cell_type": "code",
   "execution_count": null,
   "metadata": {},
   "outputs": [],
   "source": [
    "Quantitative is majorly divided into two parts:\n",
    "    1. continuous\n",
    "    2. Discrete\n",
    "continuous- measurment of continuous or non-finite values.\n",
    "             Eg: Weight of a person[Includes decimal or floating values]\n",
    "                height of a person\n",
    "                student marks\n",
    "                Temperature\n",
    "                Stock market price\n",
    "                Age\n",
    "                Salaries\n",
    "                Volume\n",
    "                Distance\n",
    "Discrete: counts of individual items or values.[No floating numbers are there]\n",
    "    No of people entered in a room\n",
    "    no of books arranged in a shelf\n",
    "    No of students in a class\n",
    "    no of corona patients\n",
    "3. Interval/ratio: can be discrete with whole nos\n",
    "                   can be continuous with float\n",
    "    "
   ]
  },
  {
   "cell_type": "code",
   "execution_count": null,
   "metadata": {},
   "outputs": [],
   "source": [
    "Favorite candy bar-- nominal\n",
    "Weight of luggage -- conti\n",
    "Egg size(small,medium,large,extra_large) --- ordinal\n",
    "shoe size \n",
    "jersey no of indian cricket team--- nominal\n",
    "no of children in family -- discrete"
   ]
  },
  {
   "cell_type": "code",
   "execution_count": null,
   "metadata": {},
   "outputs": [],
   "source": [
    "Qualitative or categorical is divided into three parts\n",
    "Cat. vriables represents groupings of same kind.\n",
    "1. Nominal -- there is no rank or order between values.\n",
    "               mean cannot be calculated.\n",
    "2.Ordinal -- having a meaningful order but the interval size is not fixed\n",
    "\n"
   ]
  },
  {
   "cell_type": "code",
   "execution_count": null,
   "metadata": {},
   "outputs": [],
   "source": [
    "Eg: your friend is a ceo of bulb manufacturing firm, mere yha jo bhi bulbs bnte h unki life 5 saal s jyada h\n",
    "    ab aap ho data analyst, jo aapka friend clain kr rhe h wo theek h yea nhi.\n",
    "    "
   ]
  },
  {
   "cell_type": "code",
   "execution_count": null,
   "metadata": {},
   "outputs": [],
   "source": [
    "Terminology of statistics:\n",
    "    population : Complete dataset \n",
    "    sample : sub-part of population\n",
    "All types of statistical test is been performed on samples only."
   ]
  },
  {
   "cell_type": "code",
   "execution_count": null,
   "metadata": {},
   "outputs": [],
   "source": [
    "Sampling Error : Elections hone wale h , bjp leading or congress is leading (uttar pradesh)\n",
    "1. Meerut - Bjp supporters ----- Bjp\n",
    "2. Ajamgarh - Congress Supporters ----- congress is leading\n"
   ]
  },
  {
   "cell_type": "code",
   "execution_count": null,
   "metadata": {},
   "outputs": [],
   "source": [
    "Eg : classroom -- 100 girls avg = 5.4ft\n",
    "    5 girls ki height le li 5.4,5.3,5.1,5.2,5.4 = 5.2\n",
    "    if we compare mean of sample and pop so bht km diff aa rha h.\n",
    "    0.2 ka difference h isko bolte h sampling error."
   ]
  },
  {
   "cell_type": "code",
   "execution_count": null,
   "metadata": {},
   "outputs": [],
   "source": [
    "sample size pr error depend karega?\n",
    "bada sample h to error ..kam/jyada...... hoga, type of sample data."
   ]
  },
  {
   "cell_type": "code",
   "execution_count": null,
   "metadata": {},
   "outputs": [],
   "source": [
    "Sampling Techniques: \n",
    "1. Random sampling  -- To collect the sample data randomly from population.\n",
    "2.Stratified Sampling -- Eg: population {5 Males, 5 females} = 10\n",
    "    size of sample = 4 strata = { 2 females and 2 males}\n",
    "in this, we will keep the % ratio of each category equals to their percentage in population.\n",
    "    \n",
    "    "
   ]
  },
  {
   "cell_type": "code",
   "execution_count": null,
   "metadata": {},
   "outputs": [],
   "source": []
  }
 ],
 "metadata": {
  "kernelspec": {
   "display_name": "Python 3",
   "language": "python",
   "name": "python3"
  },
  "language_info": {
   "codemirror_mode": {
    "name": "ipython",
    "version": 3
   },
   "file_extension": ".py",
   "mimetype": "text/x-python",
   "name": "python",
   "nbconvert_exporter": "python",
   "pygments_lexer": "ipython3",
   "version": "3.7.1"
  }
 },
 "nbformat": 4,
 "nbformat_minor": 2
}
