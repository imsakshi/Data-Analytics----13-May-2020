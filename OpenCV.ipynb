{
 "cells": [
  {
   "cell_type": "code",
   "execution_count": null,
   "metadata": {},
   "outputs": [],
   "source": [
    "OpenCV is used for image - preprocessing , object-detection etc..\n",
    "It was started at intel in 1999 by gary bradskey and release in the year 2000.\n",
    "CV ---- computer Vision\n",
    "opencv python is the opencv api for python programming language."
   ]
  },
  {
   "cell_type": "code",
   "execution_count": null,
   "metadata": {},
   "outputs": [],
   "source": [
    "You need to install it --\n",
    "conda install - c conda forge opencv\n",
    "pip install opencv-python==3.7(python version)"
   ]
  },
  {
   "cell_type": "code",
   "execution_count": 1,
   "metadata": {},
   "outputs": [],
   "source": [
    "import cv2"
   ]
  },
  {
   "cell_type": "code",
   "execution_count": 2,
   "metadata": {},
   "outputs": [],
   "source": [
    "img = cv2.imread(\"cat.jpg\")"
   ]
  },
  {
   "cell_type": "code",
   "execution_count": 3,
   "metadata": {},
   "outputs": [
    {
     "data": {
      "text/plain": [
       "array([[[ 20,  20,  20],\n",
       "        [ 20,  20,  20],\n",
       "        [ 19,  19,  19],\n",
       "        ...,\n",
       "        [ 54,  65,  73],\n",
       "        [ 55,  64,  73],\n",
       "        [ 55,  64,  73]],\n",
       "\n",
       "       [[ 20,  20,  20],\n",
       "        [ 20,  20,  20],\n",
       "        [ 19,  19,  19],\n",
       "        ...,\n",
       "        [ 54,  65,  73],\n",
       "        [ 55,  64,  73],\n",
       "        [ 55,  64,  73]],\n",
       "\n",
       "       [[ 20,  20,  20],\n",
       "        [ 20,  20,  20],\n",
       "        [ 19,  19,  19],\n",
       "        ...,\n",
       "        [ 54,  65,  73],\n",
       "        [ 55,  64,  73],\n",
       "        [ 55,  64,  73]],\n",
       "\n",
       "       ...,\n",
       "\n",
       "       [[165, 160, 169],\n",
       "        [172, 167, 176],\n",
       "        [181, 176, 185],\n",
       "        ...,\n",
       "        [200, 192, 199],\n",
       "        [200, 192, 199],\n",
       "        [200, 192, 199]],\n",
       "\n",
       "       [[167, 162, 171],\n",
       "        [175, 170, 179],\n",
       "        [183, 178, 187],\n",
       "        ...,\n",
       "        [201, 193, 200],\n",
       "        [201, 193, 200],\n",
       "        [201, 193, 200]],\n",
       "\n",
       "       [[168, 163, 172],\n",
       "        [176, 171, 180],\n",
       "        [184, 179, 188],\n",
       "        ...,\n",
       "        [202, 194, 201],\n",
       "        [202, 194, 201],\n",
       "        [202, 194, 201]]], dtype=uint8)"
      ]
     },
     "execution_count": 3,
     "metadata": {},
     "output_type": "execute_result"
    }
   ],
   "source": [
    "img"
   ]
  },
  {
   "cell_type": "code",
   "execution_count": 4,
   "metadata": {},
   "outputs": [
    {
     "data": {
      "text/plain": [
       "(720, 1280, 3)"
      ]
     },
     "execution_count": 4,
     "metadata": {},
     "output_type": "execute_result"
    }
   ],
   "source": [
    "img.shape"
   ]
  },
  {
   "cell_type": "code",
   "execution_count": 7,
   "metadata": {},
   "outputs": [],
   "source": [
    "cv2.imshow(\"image\" , img)\n",
    "cv2.waitKey(0)\n",
    "cv2.destroyAllWindows()"
   ]
  },
  {
   "cell_type": "code",
   "execution_count": 8,
   "metadata": {},
   "outputs": [
    {
     "data": {
      "text/plain": [
       "array([[[147,  96,  44],\n",
       "        [147,  96,  44],\n",
       "        [147,  96,  44],\n",
       "        ...,\n",
       "        [ 54,  65,  73],\n",
       "        [ 55,  64,  73],\n",
       "        [ 55,  64,  73]],\n",
       "\n",
       "       [[147,  96,  44],\n",
       "        [147,  96,  44],\n",
       "        [147,  96,  44],\n",
       "        ...,\n",
       "        [ 54,  65,  73],\n",
       "        [ 55,  64,  73],\n",
       "        [ 55,  64,  73]],\n",
       "\n",
       "       [[147,  96,  44],\n",
       "        [147,  96,  44],\n",
       "        [147,  96,  44],\n",
       "        ...,\n",
       "        [ 54,  65,  73],\n",
       "        [ 55,  64,  73],\n",
       "        [ 55,  64,  73]],\n",
       "\n",
       "       ...,\n",
       "\n",
       "       [[165, 160, 169],\n",
       "        [172, 167, 176],\n",
       "        [181, 176, 185],\n",
       "        ...,\n",
       "        [200, 192, 199],\n",
       "        [200, 192, 199],\n",
       "        [200, 192, 199]],\n",
       "\n",
       "       [[167, 162, 171],\n",
       "        [175, 170, 179],\n",
       "        [183, 178, 187],\n",
       "        ...,\n",
       "        [201, 193, 200],\n",
       "        [201, 193, 200],\n",
       "        [201, 193, 200]],\n",
       "\n",
       "       [[168, 163, 172],\n",
       "        [176, 171, 180],\n",
       "        [184, 179, 188],\n",
       "        ...,\n",
       "        [202, 194, 201],\n",
       "        [202, 194, 201],\n",
       "        [202, 194, 201]]], dtype=uint8)"
      ]
     },
     "execution_count": 8,
     "metadata": {},
     "output_type": "execute_result"
    }
   ],
   "source": [
    "cv2.line(img,(0,0),(300,300),(147,96,44),10)"
   ]
  },
  {
   "cell_type": "code",
   "execution_count": 9,
   "metadata": {},
   "outputs": [],
   "source": [
    "cv2.imshow(\"image\" , img)\n",
    "cv2.waitKey(0)\n",
    "cv2.destroyAllWindows()"
   ]
  },
  {
   "cell_type": "code",
   "execution_count": 11,
   "metadata": {},
   "outputs": [],
   "source": [
    "font = cv2.FONT_ITALIC"
   ]
  },
  {
   "cell_type": "code",
   "execution_count": 12,
   "metadata": {},
   "outputs": [],
   "source": [
    "img = cv2.putText(img,\"OPEN-CV\",(300,500),font,4,(0,255,255),10)"
   ]
  },
  {
   "cell_type": "code",
   "execution_count": 13,
   "metadata": {},
   "outputs": [],
   "source": [
    "cv2.imshow(\"image\" , img)\n",
    "cv2.waitKey(0)\n",
    "cv2.destroyAllWindows()"
   ]
  },
  {
   "cell_type": "code",
   "execution_count": 14,
   "metadata": {},
   "outputs": [],
   "source": [
    "#To crop a image\n",
    "cropped_image = img[100:500,250:700]"
   ]
  },
  {
   "cell_type": "code",
   "execution_count": 15,
   "metadata": {},
   "outputs": [],
   "source": [
    "cv2.imshow(\"image\" , cropped_image)\n",
    "cv2.waitKey(0)\n",
    "cv2.destroyAllWindows()"
   ]
  },
  {
   "cell_type": "code",
   "execution_count": 16,
   "metadata": {},
   "outputs": [],
   "source": [
    "resized_image = cv2.resize(img,(300,300))"
   ]
  },
  {
   "cell_type": "code",
   "execution_count": 17,
   "metadata": {},
   "outputs": [],
   "source": [
    "cv2.imshow(\"image\" , resized_image)\n",
    "cv2.waitKey(0)\n",
    "cv2.destroyAllWindows()"
   ]
  },
  {
   "cell_type": "code",
   "execution_count": 18,
   "metadata": {},
   "outputs": [
    {
     "data": {
      "text/plain": [
       "array([[[147,  96,  44],\n",
       "        [147,  96,  44],\n",
       "        [147,  96,  44],\n",
       "        ...,\n",
       "        [ 54,  65,  73],\n",
       "        [ 55,  64,  73],\n",
       "        [ 55,  64,  73]],\n",
       "\n",
       "       [[147,  96,  44],\n",
       "        [147,  96,  44],\n",
       "        [147,  96,  44],\n",
       "        ...,\n",
       "        [ 54,  65,  73],\n",
       "        [ 55,  64,  73],\n",
       "        [ 55,  64,  73]],\n",
       "\n",
       "       [[147,  96,  44],\n",
       "        [147,  96,  44],\n",
       "        [147,  96,  44],\n",
       "        ...,\n",
       "        [ 54,  65,  73],\n",
       "        [ 55,  64,  73],\n",
       "        [ 55,  64,  73]],\n",
       "\n",
       "       ...,\n",
       "\n",
       "       [[165, 160, 169],\n",
       "        [172, 167, 176],\n",
       "        [181, 176, 185],\n",
       "        ...,\n",
       "        [200, 192, 199],\n",
       "        [200, 192, 199],\n",
       "        [200, 192, 199]],\n",
       "\n",
       "       [[167, 162, 171],\n",
       "        [175, 170, 179],\n",
       "        [183, 178, 187],\n",
       "        ...,\n",
       "        [201, 193, 200],\n",
       "        [201, 193, 200],\n",
       "        [201, 193, 200]],\n",
       "\n",
       "       [[168, 163, 172],\n",
       "        [176, 171, 180],\n",
       "        [184, 179, 188],\n",
       "        ...,\n",
       "        [202, 194, 201],\n",
       "        [202, 194, 201],\n",
       "        [202, 194, 201]]], dtype=uint8)"
      ]
     },
     "execution_count": 18,
     "metadata": {},
     "output_type": "execute_result"
    }
   ],
   "source": [
    "cv2.circle(img,(110,220),105,(0,255,0),-1)"
   ]
  },
  {
   "cell_type": "code",
   "execution_count": 19,
   "metadata": {},
   "outputs": [],
   "source": [
    "cv2.imshow(\"image\" , img)\n",
    "cv2.waitKey(0)\n",
    "cv2.destroyAllWindows()"
   ]
  },
  {
   "cell_type": "code",
   "execution_count": 21,
   "metadata": {},
   "outputs": [],
   "source": [
    "import numpy as np"
   ]
  },
  {
   "cell_type": "code",
   "execution_count": 22,
   "metadata": {},
   "outputs": [
    {
     "data": {
      "text/plain": [
       "array([0., 0., 0., 0., 0.])"
      ]
     },
     "execution_count": 22,
     "metadata": {},
     "output_type": "execute_result"
    }
   ],
   "source": [
    "np.zeros(5)"
   ]
  },
  {
   "cell_type": "code",
   "execution_count": 23,
   "metadata": {},
   "outputs": [],
   "source": [
    "img = cv2.imread(\"cat.jpg\")\n",
    "img = np.zeros([720,1280,3],np.uint8)\n",
    "cv2.line(img,(0,0),(300,300),(147,96,44),10)\n",
    "img = cv2.putText(img,\"OPEN-CV\",(300,500),font,4,(0,255,255),10)\n",
    "img = cv2.circle(img,(500,630),105,(0,255,0),-1)"
   ]
  },
  {
   "cell_type": "code",
   "execution_count": 24,
   "metadata": {},
   "outputs": [],
   "source": [
    "cv2.imshow(\"image\" , img)\n",
    "cv2.waitKey(0)\n",
    "cv2.destroyAllWindows()"
   ]
  },
  {
   "cell_type": "code",
   "execution_count": null,
   "metadata": {},
   "outputs": [],
   "source": [
    "cv2.videoCapture()\n",
    "ss = cv2.videoWriter()\n",
    "ss.resize()"
   ]
  }
 ],
 "metadata": {
  "kernelspec": {
   "display_name": "Python 3",
   "language": "python",
   "name": "python3"
  },
  "language_info": {
   "codemirror_mode": {
    "name": "ipython",
    "version": 3
   },
   "file_extension": ".py",
   "mimetype": "text/x-python",
   "name": "python",
   "nbconvert_exporter": "python",
   "pygments_lexer": "ipython3",
   "version": "3.7.1"
  }
 },
 "nbformat": 4,
 "nbformat_minor": 2
}
