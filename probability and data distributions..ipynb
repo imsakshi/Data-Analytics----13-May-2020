{
 "cells": [
  {
   "cell_type": "code",
   "execution_count": null,
   "metadata": {},
   "outputs": [],
   "source": [
    "Today we will be learning about distributions.The knowledhe of various distributions is essential for any person working in the \n",
    "field of data science or analytics."
   ]
  },
  {
   "cell_type": "code",
   "execution_count": null,
   "metadata": {},
   "outputs": [],
   "source": [
    "Probability : probability tells us how often some event wull happen.\n",
    "    Chances of the occurence of an event.\n",
    "In the field of probability three examples are common:\n",
    "1. coin 2. Dice 3. cards\n",
    "value of probability lies in range [ 0,1]\n",
    "prob = no of ways it can happen/ total no of outcomes."
   ]
  },
  {
   "cell_type": "code",
   "execution_count": null,
   "metadata": {},
   "outputs": [],
   "source": [
    "ex: what are the chances of getting even number while rollling a dice?\n",
    "    1,2,3,4,5,6\n",
    "    3/6 = 1/2 = 0.5"
   ]
  },
  {
   "cell_type": "code",
   "execution_count": null,
   "metadata": {},
   "outputs": [],
   "source": [
    "As far as numbers and observations in the real world are concerned they can be put into majorly two types.\n",
    "1. Discrete -- we only have whole numbers\n",
    "2. continous --- any value in between range including floating point "
   ]
  },
  {
   "cell_type": "code",
   "execution_count": null,
   "metadata": {},
   "outputs": [],
   "source": [
    "In the terminology of distribution, we often use these terms.\n",
    "1. random variable --  a random variable is a set of possible values from a random experiment.\n",
    "Suppose we have an experiment (such as tossing a coin)\n",
    "we give value to each event - {H , T}\n",
    "The set of values is considered as your random variable.\n",
    "A random variable has a whole set of values....\n",
    "  .... and it could take any of those values randomly.\n",
    "    sample space : (1,2,2,3,4,5) -- Biased Dice\n",
    "\" A variable that is randomly sampled from a distribution is known as random variabe.\"\n",
    "        "
   ]
  },
  {
   "cell_type": "code",
   "execution_count": null,
   "metadata": {},
   "outputs": [],
   "source": [
    "Distribution : \n",
    "      The possible values a variable can take and how frequently they occur.\n",
    "      Y --- the actual outcome of the event.\n",
    "      y --- One of the possible outcomes\n",
    "Y -- The number of red marbels we draw out of a bag.\n",
    "y --- 5 specific number\n",
    "P(Y = 5) or P(5) , P(y) is my probablity function."
   ]
  },
  {
   "cell_type": "code",
   "execution_count": null,
   "metadata": {},
   "outputs": [],
   "source": [
    "2. Probablity mass function: \n",
    "In probability Theory, a pmf is a function that gives the \n",
    "prob. that a random variable is exactly equal to some value.\n",
    "In Technical Terms:\n",
    "    if \"Y\" is a discrete random variable (\"y\" can take countable \n",
    "                                         no of values.)\n",
    "    then the pmf of \"Y\" at \"y\" is given by:\n",
    "        P(y) = P(Y = y).\n",
    "    "
   ]
  },
  {
   "cell_type": "code",
   "execution_count": null,
   "metadata": {},
   "outputs": [],
   "source": [
    "Discrete: A discrete variable can obtain fixed values in a certain range for instance \n",
    "        [1 to 100] 1,2,3,4,......,100"
   ]
  },
  {
   "cell_type": "code",
   "execution_count": null,
   "metadata": {},
   "outputs": [],
   "source": [
    "Continuous: It can obtain any value in a certain range. [1 to 200]\n",
    "How many values in between?\n",
    "Infinite."
   ]
  },
  {
   "cell_type": "code",
   "execution_count": null,
   "metadata": {},
   "outputs": [],
   "source": [
    "3. Probability Density function: \n",
    "    pdf of a continuous variable is a function that defines the relative likelihood\n",
    "    for this random variable to take a particular given value.\n",
    "In Technical terms:\n",
    "    pdf is a continuous cousin of pmf.\n",
    "Consider \"Y\" to be a continuous random variable {\"y\" can take uncountable no. of values}\n",
    "then the pdf of \"Y\" at \"y\" is denoted by. \n",
    "f(y)\n",
    "The greater the value of f(y), the higher the chances or probability that \"Y\" is near to \n",
    "\"y\"\n",
    "Rahul\n",
    "  weight of rahul = 78 kg\n",
    "    f(y) = f(y) ki value large hogi 76 or 77 pr.\n",
    "    f(y) = f(y) ki small hogi 20 kg k lie."
   ]
  },
  {
   "cell_type": "code",
   "execution_count": null,
   "metadata": {},
   "outputs": [],
   "source": [
    "Since we are taking continuous variables this time, note that:\n",
    "    f(y)!= P(Y = y) It can never tell probability for a particular value.\n",
    "P(Y = y) = 0 for all \"y\"\n",
    "Infinite numbers available."
   ]
  },
  {
   "cell_type": "code",
   "execution_count": null,
   "metadata": {},
   "outputs": [],
   "source": [
    "Since \"Y\" is a continuous random variable we can only calculate the probability of\n",
    "\"y\" in a given interval.\n",
    "Integration : Area under the curve.\n",
    "    Lets us suppose interval [a,b]\n",
    "    \n",
    "    P(a<y<b) = integral from a to b f(y).dx"
   ]
  },
  {
   "cell_type": "code",
   "execution_count": null,
   "metadata": {},
   "outputs": [],
   "source": [
    "pmf ----- \"for Discrete\" -- P(y)\n",
    "pdf ----- \"for continuous variables\" ----- F(y) #DC"
   ]
  },
  {
   "cell_type": "code",
   "execution_count": null,
   "metadata": {},
   "outputs": [],
   "source": [
    "As of now we have learned terminologies, we can start with some common distributions.\n"
   ]
  },
  {
   "cell_type": "code",
   "execution_count": null,
   "metadata": {},
   "outputs": [],
   "source": [
    "1. Bernoulli Distribution :\n",
    " It is named after swiss mathematician jacob bernoulli.\n",
    "A B.D can have only two possible outcomes namely success/failure\n",
    "or 0/1 or H/T\n",
    "So that random variable \"Y\" which obeys the B.D can take value\n",
    "1 with a probability of \"p\" and 0 with the prob 1-p (a)\n",
    "Corona is a valid example , it only have two values (positive|negative)"
   ]
  },
  {
   "cell_type": "code",
   "execution_count": null,
   "metadata": {},
   "outputs": [],
   "source": [
    "Suppose there is a person having some symptoms of corona\n",
    "corona positive --- 70%\n",
    "corona negative --- 30%"
   ]
  },
  {
   "cell_type": "code",
   "execution_count": 2,
   "metadata": {},
   "outputs": [
    {
     "data": {
      "image/png": "[encoded data removed]",
      "text/plain": [
       "<Figure size 432x288 with 1 Axes>"
      ]
     },
     "metadata": {
      "needs_background": "light"
     },
     "output_type": "display_data"
    }
   ],
   "source": [
    "import matplotlib.pyplot as plt\n",
    "plt.bar([\"covid+ve\",\"covid-ve\"],[0.7,0.3])\n",
    "plt.show()"
   ]
  },
  {
   "cell_type": "code",
   "execution_count": null,
   "metadata": {},
   "outputs": [],
   "source": [
    "We usually define distributions by using two important attributes:\n",
    "1. Mean a.k.a \"average\"\n",
    "2. Variance ---- how spread out data is --- unit(square)\n",
    "population data -- \"all\"\n",
    "sample dta --- \"part\" of data , sample mean xbar, sample variance = s(square)"
   ]
  },
  {
   "cell_type": "code",
   "execution_count": null,
   "metadata": {},
   "outputs": [],
   "source": [
    "Uniform Distribution:\n",
    "In U.D, the probability of every outcome for a random variable \"Y\" is equally likely.\n",
    "classic example : Rolling of Dice\n"
   ]
  },
  {
   "cell_type": "code",
   "execution_count": 1,
   "metadata": {},
   "outputs": [],
   "source": [
    "import numpy as np"
   ]
  },
  {
   "cell_type": "code",
   "execution_count": 2,
   "metadata": {},
   "outputs": [],
   "source": [
    "a = np.array([1,2,3,4])"
   ]
  },
  {
   "cell_type": "code",
   "execution_count": 3,
   "metadata": {},
   "outputs": [
    {
     "data": {
      "text/plain": [
       "(4,)"
      ]
     },
     "execution_count": 3,
     "metadata": {},
     "output_type": "execute_result"
    }
   ],
   "source": [
    "a.shape"
   ]
  },
  {
   "cell_type": "code",
   "execution_count": null,
   "metadata": {},
   "outputs": [],
   "source": [
    "Binomial Distribution or mother of all distributions.\n",
    "bernaulli distribution is the special or sub case of Binomial distribution.\n",
    "A distribution where only two outcomes are possible (1/0) and the probability of success and failure\n",
    "is same for all the trials is known as Binomial distribution."
   ]
  },
  {
   "cell_type": "code",
   "execution_count": null,
   "metadata": {},
   "outputs": [],
   "source": [
    "The outcomes need not to be equally likely.\n",
    "1 or 0 ki probability alag alag ho sakti h.\n",
    "p = 0.8\n",
    "q = 0.2 \n",
    "will be same for every trial.\n",
    "In binomial distribution we have independent trial.\n",
    "No trial influence other trials."
   ]
  },
  {
   "cell_type": "code",
   "execution_count": null,
   "metadata": {},
   "outputs": [],
   "source": [
    "In plain maths, a binomial means experiment with only two possible outcomes repeated \"n \" number of times\n",
    "There are two parameters by which we define a binomial distribution. \"n\" and \"p\""
   ]
  },
  {
   "cell_type": "code",
   "execution_count": null,
   "metadata": {},
   "outputs": [],
   "source": [
    "Single dice"
   ]
  },
  {
   "cell_type": "code",
   "execution_count": 5,
   "metadata": {},
   "outputs": [],
   "source": [
    "import numpy as np\n",
    "import matplotlib.pyplot as plt"
   ]
  },
  {
   "cell_type": "code",
   "execution_count": 17,
   "metadata": {},
   "outputs": [
    {
     "data": {
      "image/png": "[encoded data removed]",
      "text/plain": [
       "<Figure size 432x288 with 1 Axes>"
      ]
     },
     "metadata": {
      "needs_background": "light"
     },
     "output_type": "display_data"
    }
   ],
   "source": [
    "throws = []\n",
    "for i in range(200):\n",
    "    one = np.random.choice(range(1,7)) #2\n",
    "    two = np.random.choice(range(1,7)) #3\n",
    "    total = one + two\n",
    "    throws.append(total)#5\n",
    "plt.hist(throws, bins = 30)\n",
    "plt.show()\n",
    "\n"
   ]
  },
  {
   "cell_type": "code",
   "execution_count": null,
   "metadata": {},
   "outputs": [],
   "source": []
  },
  {
   "cell_type": "code",
   "execution_count": null,
   "metadata": {},
   "outputs": [],
   "source": []
  },
  {
   "cell_type": "code",
   "execution_count": 11,
   "metadata": {},
   "outputs": [],
   "source": [
    "one = np.random.choice(range(1,7))"
   ]
  },
  {
   "cell_type": "code",
   "execution_count": 12,
   "metadata": {},
   "outputs": [
    {
     "data": {
      "text/plain": [
       "3"
      ]
     },
     "execution_count": 12,
     "metadata": {},
     "output_type": "execute_result"
    }
   ],
   "source": [
    "one"
   ]
  },
  {
   "cell_type": "code",
   "execution_count": 18,
   "metadata": {},
   "outputs": [
    {
     "data": {
      "image/png": "[encoded data removed]",
      "text/plain": [
       "<Figure size 432x288 with 1 Axes>"
      ]
     },
     "metadata": {
      "needs_background": "light"
     },
     "output_type": "display_data"
    }
   ],
   "source": [
    "x = np.random.randn(10000)\n",
    "plt.hist(x,bins = 100)\n",
    "plt.show()"
   ]
  },
  {
   "cell_type": "code",
   "execution_count": null,
   "metadata": {},
   "outputs": [],
   "source": [
    "Ab jo hum distributions discuss krne wale h wo thode s complicated h, not complicaed\n",
    "but tricky h thode.\n",
    "aapne isse pehle poisson kha suna h?"
   ]
  },
  {
   "cell_type": "code",
   "execution_count": null,
   "metadata": {},
   "outputs": [],
   "source": [
    "Poisson Distributin: It models the probability of a number of events occuring in a\n",
    "    fixed interval of time or space. \n",
    "If these occur with a known constant mean rate and independently of the time since the\n",
    "last event."
   ]
  },
  {
   "cell_type": "code",
   "execution_count": null,
   "metadata": {},
   "outputs": [],
   "source": [
    "fri, sat or sunday --- in any bar or club crowd jyada hota h normal days m?\n",
    "1 din m kitne customers aate h? --- 100\n",
    "1 hr m kitne customers aate h ? --- 7\n",
    "1/2 m kitne customer aate h ? ---- \n",
    "15 min m kitne customer aate h ? --- \n",
    "5 min m kitne customer aate h?---- \n",
    "1 min m kitne customer aate h?"
   ]
  },
  {
   "cell_type": "code",
   "execution_count": null,
   "metadata": {},
   "outputs": [],
   "source": [
    "jaise jaise time interval smaller hoga, probability h wo tend kregi towards zero."
   ]
  },
  {
   "cell_type": "code",
   "execution_count": null,
   "metadata": {},
   "outputs": [],
   "source": [
    "scipy library --- scientific python,\n",
    "Higher level mathematics. numpy and scipy works hands in hands\n",
    "scipy is built above numpy."
   ]
  },
  {
   "cell_type": "code",
   "execution_count": 19,
   "metadata": {},
   "outputs": [],
   "source": [
    "from scipy.special import factorial"
   ]
  },
  {
   "cell_type": "code",
   "execution_count": null,
   "metadata": {},
   "outputs": [],
   "source": [
    "arange function works in a similar manner as range works, it returns array."
   ]
  },
  {
   "cell_type": "code",
   "execution_count": 29,
   "metadata": {},
   "outputs": [
    {
     "data": {
      "image/png": "[encoded data removed]",
      "text/plain": [
       "<Figure size 432x288 with 1 Axes>"
      ]
     },
     "metadata": {
      "needs_background": "light"
     },
     "output_type": "display_data"
    }
   ],
   "source": [
    "t = np.arange(0,20,0.1)\n",
    "pmf = np.exp(-5) * np.power(5,t)/factorial(t)\n",
    "plt.scatter(t,pmf,marker = \"*\",color = \"c\")\n",
    "plt.show()"
   ]
  },
  {
   "cell_type": "code",
   "execution_count": 23,
   "metadata": {},
   "outputs": [
    {
     "data": {
      "text/plain": [
       "array([ 0. ,  0.1,  0.2,  0.3,  0.4,  0.5,  0.6,  0.7,  0.8,  0.9,  1. ,\n",
       "        1.1,  1.2,  1.3,  1.4,  1.5,  1.6,  1.7,  1.8,  1.9,  2. ,  2.1,\n",
       "        2.2,  2.3,  2.4,  2.5,  2.6,  2.7,  2.8,  2.9,  3. ,  3.1,  3.2,\n",
       "        3.3,  3.4,  3.5,  3.6,  3.7,  3.8,  3.9,  4. ,  4.1,  4.2,  4.3,\n",
       "        4.4,  4.5,  4.6,  4.7,  4.8,  4.9,  5. ,  5.1,  5.2,  5.3,  5.4,\n",
       "        5.5,  5.6,  5.7,  5.8,  5.9,  6. ,  6.1,  6.2,  6.3,  6.4,  6.5,\n",
       "        6.6,  6.7,  6.8,  6.9,  7. ,  7.1,  7.2,  7.3,  7.4,  7.5,  7.6,\n",
       "        7.7,  7.8,  7.9,  8. ,  8.1,  8.2,  8.3,  8.4,  8.5,  8.6,  8.7,\n",
       "        8.8,  8.9,  9. ,  9.1,  9.2,  9.3,  9.4,  9.5,  9.6,  9.7,  9.8,\n",
       "        9.9, 10. , 10.1, 10.2, 10.3, 10.4, 10.5, 10.6, 10.7, 10.8, 10.9,\n",
       "       11. , 11.1, 11.2, 11.3, 11.4, 11.5, 11.6, 11.7, 11.8, 11.9, 12. ,\n",
       "       12.1, 12.2, 12.3, 12.4, 12.5, 12.6, 12.7, 12.8, 12.9, 13. , 13.1,\n",
       "       13.2, 13.3, 13.4, 13.5, 13.6, 13.7, 13.8, 13.9, 14. , 14.1, 14.2,\n",
       "       14.3, 14.4, 14.5, 14.6, 14.7, 14.8, 14.9, 15. , 15.1, 15.2, 15.3,\n",
       "       15.4, 15.5, 15.6, 15.7, 15.8, 15.9, 16. , 16.1, 16.2, 16.3, 16.4,\n",
       "       16.5, 16.6, 16.7, 16.8, 16.9, 17. , 17.1, 17.2, 17.3, 17.4, 17.5,\n",
       "       17.6, 17.7, 17.8, 17.9, 18. , 18.1, 18.2, 18.3, 18.4, 18.5, 18.6,\n",
       "       18.7, 18.8, 18.9, 19. , 19.1, 19.2, 19.3, 19.4, 19.5, 19.6, 19.7,\n",
       "       19.8, 19.9])"
      ]
     },
     "execution_count": 23,
     "metadata": {},
     "output_type": "execute_result"
    }
   ],
   "source": [
    "t"
   ]
  },
  {
   "cell_type": "code",
   "execution_count": 22,
   "metadata": {},
   "outputs": [
    {
     "data": {
      "text/plain": [
       "25"
      ]
     },
     "execution_count": 22,
     "metadata": {},
     "output_type": "execute_result"
    }
   ],
   "source": [
    "np.power(5,2)"
   ]
  },
  {
   "cell_type": "code",
   "execution_count": null,
   "metadata": {},
   "outputs": [],
   "source": [
    "Exponential Distribution:\n",
    "It models the interval of time between the events. Exp. Distribution is used for half-life calculation,\n",
    "of radioactive elements in chemistry.\n",
    "\n",
    "It considers the decay the for a radioactive isotope.\n",
    "This decaying process in engineering is called survival analysis which measures the wear out rate for a \n",
    "particular machinery.\n",
    "** kitne time baad koi machine khaarab ho jayegi"
   ]
  },
  {
   "cell_type": "code",
   "execution_count": 30,
   "metadata": {},
   "outputs": [
    {
     "data": {
      "image/png": "[encoded data removed]",
      "text/plain": [
       "<Figure size 432x288 with 1 Axes>"
      ]
     },
     "metadata": {
      "needs_background": "light"
     },
     "output_type": "display_data"
    }
   ],
   "source": [
    "x = np.arange(-10,10,0.01)\n",
    "pmf = np.exp(-x)\n",
    "plt.scatter(x,pmf)\n",
    "plt.show()"
   ]
  },
  {
   "cell_type": "code",
   "execution_count": null,
   "metadata": {},
   "outputs": [],
   "source": []
  }
 ],
 "metadata": {
  "kernelspec": {
   "display_name": "Python 3",
   "language": "python",
   "name": "python3"
  },
  "language_info": {
   "codemirror_mode": {
    "name": "ipython",
    "version": 3
   },
   "file_extension": ".py",
   "mimetype": "text/x-python",
   "name": "python",
   "nbconvert_exporter": "python",
   "pygments_lexer": "ipython3",
   "version": "3.7.1"
  }
 },
 "nbformat": 4,
 "nbformat_minor": 2
}
