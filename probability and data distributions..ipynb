{
 "cells": [
  {
   "cell_type": "code",
   "execution_count": null,
   "metadata": {},
   "outputs": [],
   "source": [
    "Today we will be learning about distributions.The knowledhe of various distributions is essential for any person working in the \n",
    "field of data science or analytics."
   ]
  },
  {
   "cell_type": "code",
   "execution_count": null,
   "metadata": {},
   "outputs": [],
   "source": [
    "Probability : probability tells us how often some event wull happen.\n",
    "    Chances of the occurence of an event.\n",
    "In the field of probability three examples are common:\n",
    "1. coin 2. Dice 3. cards\n",
    "value of probability lies in range [ 0,1]\n",
    "prob = no of ways it can happen/ total no of outcomes."
   ]
  },
  {
   "cell_type": "code",
   "execution_count": null,
   "metadata": {},
   "outputs": [],
   "source": [
    "ex: what are the chances of getting even number while rollling a dice?\n",
    "    1,2,3,4,5,6\n",
    "    3/6 = 1/2 = 0.5"
   ]
  },
  {
   "cell_type": "code",
   "execution_count": null,
   "metadata": {},
   "outputs": [],
   "source": [
    "As far as numbers and observations in the real world are concerned they can be put into majorly two types.\n",
    "1. Discrete -- we only have whole numbers\n",
    "2. continous --- any value in between range including floating point "
   ]
  },
  {
   "cell_type": "code",
   "execution_count": null,
   "metadata": {},
   "outputs": [],
   "source": [
    "In the terminology of distribution, we often use these terms.\n",
    "1. random variable --  a random variable is a set of possible values from a random experiment.\n",
    "Suppose we have an experiment (such as tossing a coin)\n",
    "we give value to each event - {H , T}\n",
    "The set of values is considered as your random variable.\n",
    "A random variable has a whole set of values....\n",
    "  .... and it could take any of those values randomly.\n",
    "    sample space : (1,2,2,3,4,5) -- Biased Dice\n",
    "\" A variable that is randomly sampled from a distribution is known as random variabe.\"\n",
    "        "
   ]
  },
  {
   "cell_type": "code",
   "execution_count": null,
   "metadata": {},
   "outputs": [],
   "source": [
    "Distribution : \n",
    "      The possible values a variable can take and how frequently they occur.\n",
    "      Y --- the actual outcome of the event.\n",
    "      y --- One of the possible outcomes\n",
    "Y -- The number of red marbels we draw out of a bag.\n",
    "y --- 5 specific number\n",
    "P(Y = 5) or P(5) , P(y) is my probablity function."
   ]
  },
  {
   "cell_type": "code",
   "execution_count": null,
   "metadata": {},
   "outputs": [],
   "source": [
    "2. Probablity mass function: \n",
    "In probability Theory, a pmf is a function that gives the \n",
    "prob. that a random variable is exactly equal to some value.\n",
    "In Technical Terms:\n",
    "    if \"Y\" is a discrete random variable (\"y\" can take countable \n",
    "                                         no of values.)\n",
    "    then the pmf of \"Y\" at \"y\" is given by:\n",
    "        P(y) = P(Y = y).\n",
    "    "
   ]
  },
  {
   "cell_type": "code",
   "execution_count": null,
   "metadata": {},
   "outputs": [],
   "source": [
    "Discrete: A discrete variable can obtain fixed values in a certain range for instance \n",
    "        [1 to 100] 1,2,3,4,......,100"
   ]
  },
  {
   "cell_type": "code",
   "execution_count": null,
   "metadata": {},
   "outputs": [],
   "source": [
    "Continuous: It can obtain any value in a certain range. [1 to 200]\n",
    "How many values in between?\n",
    "Infinite."
   ]
  },
  {
   "cell_type": "code",
   "execution_count": null,
   "metadata": {},
   "outputs": [],
   "source": [
    "3. Probability Density function: \n",
    "    pdf of a continuous variable is a function that defines the relative likelihood\n",
    "    for this random variable to take a particular given value.\n",
    "In Technical terms:\n",
    "    pdf is a continuous cousin of pmf.\n",
    "Consider \"Y\" to be a continuous random variable {\"y\" can take uncountable no. of values}\n",
    "then the pdf of \"Y\" at \"y\" is denoted by. \n",
    "f(y)\n",
    "The greater the value of f(y), the higher the chances or probability that \"Y\" is near to \n",
    "\"y\"\n",
    "Rahul\n",
    "  weight of rahul = 78 kg\n",
    "    f(y) = f(y) ki value large hogi 76 or 77 pr.\n",
    "    f(y) = f(y) ki small hogi 20 kg k lie."
   ]
  },
  {
   "cell_type": "code",
   "execution_count": null,
   "metadata": {},
   "outputs": [],
   "source": [
    "Since we are taking continuous variables this time, note that:\n",
    "    f(y)!= P(Y = y) It can never tell probability for a particular value.\n",
    "P(Y = y) = 0 for all \"y\"\n",
    "Infinite numbers available."
   ]
  },
  {
   "cell_type": "code",
   "execution_count": null,
   "metadata": {},
   "outputs": [],
   "source": [
    "Since \"Y\" is a continuous random variable we can only calculate the probability of\n",
    "\"y\" in a given interval.\n",
    "Integration : Area under the curve.\n",
    "    Lets us suppose interval [a,b]\n",
    "    \n",
    "    P(a<y<b) = integral from a to b f(y).dx"
   ]
  },
  {
   "cell_type": "code",
   "execution_count": null,
   "metadata": {},
   "outputs": [],
   "source": [
    "pmf ----- \"for Discrete\" -- P(y)\n",
    "pdf ----- \"for continuous variables\" ----- F(y) #DC"
   ]
  },
  {
   "cell_type": "code",
   "execution_count": null,
   "metadata": {},
   "outputs": [],
   "source": [
    "As of now we have learned terminologies, we can start with some common distributions.\n"
   ]
  },
  {
   "cell_type": "code",
   "execution_count": null,
   "metadata": {},
   "outputs": [],
   "source": [
    "1. Bernoulli Distribution :\n",
    " It is named after swiss mathematician jacob bernoulli.\n",
    "A B.D can have only two possible outcomes namely success/failure\n",
    "or 0/1 or H/T\n",
    "So that random variable \"Y\" which obeys the B.D can take value\n",
    "1 with a probability of \"p\" and 0 with the prob 1-p (a)\n",
    "Corona is a valid example , it only have two values (positive|negative)"
   ]
  },
  {
   "cell_type": "code",
   "execution_count": null,
   "metadata": {},
   "outputs": [],
   "source": [
    "Suppose there is a person having some symptoms of corona\n",
    "corona positive --- 70%\n",
    "corona negative --- 30%"
   ]
  },
  {
   "cell_type": "code",
   "execution_count": 2,
   "metadata": {},
   "outputs": [
    {
     "data": {
      "image/png": "[encoded data removed]",
      "text/plain": [
       "<Figure size 432x288 with 1 Axes>"
      ]
     },
     "metadata": {
      "needs_background": "light"
     },
     "output_type": "display_data"
    }
   ],
   "source": [
    "import matplotlib.pyplot as plt\n",
    "plt.bar([\"covid+ve\",\"covid-ve\"],[0.7,0.3])\n",
    "plt.show()"
   ]
  },
  {
   "cell_type": "code",
   "execution_count": null,
   "metadata": {},
   "outputs": [],
   "source": [
    "We usually define distributions by using two important attributes:\n",
    "1. Mean a.k.a \"average\"\n",
    "2. Variance ---- how spread out data is --- unit(square)\n",
    "population data -- \"all\"\n",
    "sample dta --- \"part\" of data , sample mean xbar, sample variance = s(square)"
   ]
  }
 ],
 "metadata": {
  "kernelspec": {
   "display_name": "Python 3",
   "language": "python",
   "name": "python3"
  },
  "language_info": {
   "codemirror_mode": {
    "name": "ipython",
    "version": 3
   },
   "file_extension": ".py",
   "mimetype": "text/x-python",
   "name": "python",
   "nbconvert_exporter": "python",
   "pygments_lexer": "ipython3",
   "version": "3.7.1"
  }
 },
 "nbformat": 4,
 "nbformat_minor": 2
}
